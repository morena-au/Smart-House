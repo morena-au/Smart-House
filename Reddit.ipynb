{
 "cells": [
  {
   "cell_type": "markdown",
   "metadata": {},
   "source": [
    "# Smart home - topic modelling (LDA)\n",
    "#### Source Data\n",
    "2904 reddit comments form the subreddits **smarthome** and **homeautomation** extracted with [pushshift API](https://github.com/pushshift/api) using privacy, trust and security as query terms and size equal 500 (maximum allowed for each request).\n"
   ]
  },
  {
   "cell_type": "code",
   "execution_count": 188,
   "metadata": {},
   "outputs": [],
   "source": [
    "import json\n",
    "import re\n",
    "import warnings\n",
    "from collections import Counter, defaultdict\n",
    "\n",
    "import gensim\n",
    "import gensim.corpora as corpora\n",
    "import matplotlib.colors as mcolors\n",
    "import matplotlib.pyplot as plt\n",
    "import nltk\n",
    "import numpy as np\n",
    "import pandas as pd\n",
    "import pyLDAvis\n",
    "import pyLDAvis.gensim\n",
    "import seaborn as sns\n",
    "import spacy\n",
    "import scipy.stats\n",
    "from collections import OrderedDict\n",
    "from bokeh.io import output_notebook\n",
    "from bokeh.models import Label\n",
    "from bokeh.plotting import figure, output_file, show\n",
    "from gensim.models import CoherenceModel, LsiModel, HdpModel, LdaModel\n",
    "from gensim.utils import simple_preprocess\n",
    "from gensim.test.utils import datapath\n",
    "from matplotlib.patches import Rectangle\n",
    "from matplotlib.ticker import FuncFormatter\n",
    "from nltk.corpus import stopwords\n",
    "from nltk.corpus import wordnet as wn\n",
    "from nltk.stem import WordNetLemmatizer\n",
    "from sklearn.feature_extraction.text import CountVectorizer, TfidfVectorizer, TfidfTransformer\n",
    "from sklearn.manifold import TSNE\n",
    "from wordcloud import STOPWORDS, WordCloud\n",
    "\n",
    "## Run in terminal with the size wanted \n",
    "# python3 pushshift_comments.py 10\n",
    "\n",
    "warnings.filterwarnings(\"ignore\", category=FutureWarning)\n",
    "warnings.filterwarnings(\"ignore\", category=DeprecationWarning)\n",
    "\n",
    "# import training data\n",
    "\n",
    "df = pd.read_csv('comments_query.csv', encoding='utf8')\n",
    "\n",
    "# Cleaning up the comments\n",
    "# nltk.download('stopwords')  # (run python console)\n",
    "# nltk.download('wordnet')  # (run python console)\n",
    "# python3 -m spacy download en  # (run in terminal)\n"
   ]
  },
  {
   "cell_type": "markdown",
   "metadata": {},
   "source": [
    "## Pre-processing\n",
    "- Strip out hyperlinks and copy thme in a new column URL\n",
    "- Find all words with a hyphen between them and consider them as a unique word ('technical vocabulary')\n",
    "- Remove common stop words\n",
    "- Remove previous comments (copied text) within the comment\n",
    "- Remove punctuation\n",
    "- Remove digits\n",
    "- Remvoe word that are less then 2 characters\n",
    "- Keep only noun, adjectives, verbs and proper nouns\n",
    "- Apply lemmantization"
   ]
  },
  {
   "cell_type": "code",
   "execution_count": null,
   "metadata": {},
   "outputs": [],
   "source": [
    "# Extracting URLs: external links often informative, but they add unwanted noise to our NLP model\n",
    "# Strip out hyperlinks and copy thme in a new column URL\n",
    "\n",
    "# Find URL\n",
    "def Find(string): \n",
    "    # with valid conditions for urls in string \n",
    "    url = re.findall('http[s]?://(?:[a-zA-Z]|[0-9]|[$-_@.&+]|[!*\\(\\), ]|(?:%[0-9a-fA-F][0-9a-fA-F]))+', string) \n",
    "    return url\n",
    "\n",
    "# apply the function on the body column\n",
    "df['URL'] = df.body.apply(find_URL)\n",
    "\n",
    "# create a colummn with pre-processed:\n",
    "df['clean_body'] = [re.sub('http[s]?://(?:[a-zA-Z]|[0-9]|[$-_@.&+]|[!*\\(\\), ]|(?:%[0-9a-fA-F][0-9a-fA-F]))+','', x) for x in df['body']]"
   ]
  },
  {
   "cell_type": "code",
   "execution_count": 189,
   "metadata": {},
   "outputs": [],
   "source": [
    "# Find all internal hyphen words and consider them as full words ('technical vocabulary')\n",
    "df['clean_body'] = [re.sub(r'([a-zA-Z]+)(-)([a-zA-Z]+)', r'\\g<1>\\g<3>', x) for x in df['clean_body']]"
   ]
  },
  {
   "cell_type": "code",
   "execution_count": 190,
   "metadata": {},
   "outputs": [],
   "source": [
    "# Standardizing the informal language of comments\n",
    "# NLTK Stop words\n",
    "stop_words = stopwords.words('english')\n",
    "stop_words.extend(['home', 'day', 'hour', 'minute', 'second', 'week', 'year', 'today', 'yesterday', 'tomorrow'])\n",
    "\n",
    "#We specify the stemmer or lemmatizer we want to use\n",
    "word_rooter = nltk.stem.snowball.PorterStemmer(ignore_stopwords=False).stem\n",
    "wordnet_lemmatizer = WordNetLemmatizer()\n",
    "\n",
    "def clean_comment(comment, bigrams=False, lemma=False, allowed_postags=['NOUN', 'ADJ', 'VERB', 'PROPN']):\n",
    "    comment = comment.lower() # ? consider to make general the name of companies or decives\n",
    "    comment = re.sub('&gt', ' ', comment) # remove all copied text into a comment '&gt'\n",
    "    comment = re.sub('[^\\s\\w]', ' ', comment) # strip out everything (punctuation) that is not Unicode whitespace or word character\n",
    "    comment = re.sub('[0-9]+', ' ', comment) # remove digits\n",
    "\n",
    "    # remove stop_words\n",
    "    comment_token_list = [word for word in comment.strip().split() if word not in stop_words]\n",
    "    \n",
    "    # remove one character word\n",
    "    comment_token_list = [word for word in comment_token_list if len(word) > 1]\n",
    "    \n",
    "    # keeps word meaning\n",
    "    if lemma == True:\n",
    "        # Initialize spacy 'en' model, keeping only tagger component (for efficiency)\n",
    "        nlp = spacy.load('en', disable=['parser', 'ner'])\n",
    "        # https://spacy.io/api/annotation\n",
    "        comment_text = nlp(' '.join(comment_token_list))\n",
    "        comment_token_list = [token.lemma_ for token in comment_text if token.pos_ in allowed_postags]\n",
    "        #comment_token_list = [wordnet_lemmatizer.lemmatize(word) for word in comment_token_list]\n",
    "    \n",
    "    # harsh to the root of the word\n",
    "    else:\n",
    "        comment_token_list = [word_rooter(word) for word in comment_token_list]\n",
    "\n",
    "    if bigrams:\n",
    "        comment_token_list = bigram[comment_token_list]\n",
    "    \n",
    "    comment = ' '.join(comment_token_list)\n",
    "    \n",
    "    return comment"
   ]
  },
  {
   "cell_type": "code",
   "execution_count": 191,
   "metadata": {},
   "outputs": [],
   "source": [
    "# Apply function to clean the comment\n",
    "# Takes long time to run\n",
    "df['clean_body'] = df.clean_body.apply(clean_comment, lemma=True)"
   ]
  },
  {
   "cell_type": "code",
   "execution_count": 162,
   "metadata": {},
   "outputs": [],
   "source": [
    "# print(df['body'][500])\n",
    "# print('\\n\\n')\n",
    "# df['clean_body'][2].strip().split()\n",
    "# df[df[\"clean_body\"].str.lower().str.contains(\"em\")]"
   ]
  },
  {
   "cell_type": "code",
   "execution_count": 163,
   "metadata": {},
   "outputs": [],
   "source": [
    "# nlp = spacy.load('en', disable=['parser', 'ner'])\n",
    "# bar = 'People will eventually start talking about em privacy'.strip().split()\n",
    "# foo = nlp(' '.join(bar))\n",
    "# for i in foo:\n",
    "#    print(i, '\\t', i.pos_, '\\t', i.lemma_)\n",
    "    \n",
    "# 'compromise' in stop_words"
   ]
  },
  {
   "cell_type": "code",
   "execution_count": 192,
   "metadata": {},
   "outputs": [],
   "source": [
    "# function to plot most frequent terms or vice versa\n",
    "def freq_words(x, ascending=False, terms = 30):\n",
    "  all_words = ' '.join([text for text in x])\n",
    "  all_words = all_words.split()\n",
    "\n",
    "  fdist = nltk.FreqDist(all_words)\n",
    "  words_df = pd.DataFrame({'word':list(fdist.keys()), 'count':list(fdist.values())})\n",
    "\n",
    "  # selecting top most frequent words\n",
    "  d = words_df.sort_values(\"count\", ascending=ascending)\n",
    "  plt.figure(figsize=(20,5))\n",
    "  ax = sns.barplot(data=d[:terms], x= \"word\", y = \"count\")\n",
    "  ax.set(ylabel = 'Count')\n",
    "  plt.xticks(rotation=45)\n",
    "  plt.show()"
   ]
  },
  {
   "cell_type": "code",
   "execution_count": 200,
   "metadata": {},
   "outputs": [
    {
     "data": {
      "image/png": "[encoded data removed]",
      "text/plain": [
       "<Figure size 1440x360 with 1 Axes>"
      ]
     },
     "metadata": {
      "needs_background": "light"
     },
     "output_type": "display_data"
    }
   ],
   "source": [
    "freq_words(df['clean_body'], False, 40)"
   ]
  },
  {
   "cell_type": "code",
   "execution_count": 194,
   "metadata": {},
   "outputs": [
    {
     "name": "stdout",
     "output_type": "stream",
     "text": [
      "Sorted trigrams: \n",
      "\n",
      "[('third_party', 42), ('raspberry_pi', 40), ('_', 40), ('blue_iris', 29), ('person_in_address_book', 1), ('info_we_collect', 1), ('tp_link', 1), ('domain_comvrsn', 1), ('amzn_ssid', 1), ('amzn_pw', 1), ('lemon_tea', 1), ('not_home', 1), ('eternal_peril', 1), ('automate_the_thing', 1), ('ok_hand', 1), ('t_d', 1)]\n",
      "--------------------\n"
     ]
    }
   ],
   "source": [
    "def comment2token(comments):\n",
    "    '''\n",
    "    Return sequence (stream, generator) of sentences,\n",
    "    with each sentence a list of tokens\n",
    "    '''\n",
    "    return [comment.split() for comment in comments]\n",
    "\n",
    "comment_token_list = comment2token(df['clean_body'])\n",
    "\n",
    "# Train Bigram and Trigram Models\n",
    "# higher threshold fewer phrases.\n",
    "bigram = gensim.models.Phrases(comment_token_list, min_count=20, threshold=300)\n",
    "\n",
    "# Frequency of n-gram words\n",
    "dist = nltk.FreqDist(\n",
    "    [word for comment in bigram[comment_token_list] for word in comment if '_' in word])\n",
    "\n",
    "# Sort frequency\n",
    "print('Sorted trigrams: \\n')\n",
    "print(sorted(dist.items(), key=lambda x: x[1], reverse=True))\n",
    "print('-'*20)"
   ]
  },
  {
   "cell_type": "code",
   "execution_count": 198,
   "metadata": {},
   "outputs": [],
   "source": [
    "# df[df[\"clean_body\"].str.lower().str.contains(\"\")]"
   ]
  },
  {
   "cell_type": "code",
   "execution_count": 199,
   "metadata": {},
   "outputs": [],
   "source": [
    "# Create a new columns with tokens\n",
    "df['token_text'] = [[word for word in comment.split()] for comment in df['clean_body']]"
   ]
  },
  {
   "cell_type": "code",
   "execution_count": 10,
   "metadata": {},
   "outputs": [],
   "source": [
    "# Add Wikipedia corpus\n",
    "#with open('train_wiki.json', 'r') as f:\n",
    "#    train_wiki = json.load(f)\n",
    "\n",
    "#link = []\n",
    "#category = []\n",
    "#body_par = []\n",
    "\n",
    "#for item in train_wiki:\n",
    "#    link.append(item['link'])\n",
    "#    category.append(item['category'])\n",
    "#    body_par.append(item['body_par'])\n",
    "\n",
    "# wiki_text= []\n",
    "# for elm in body_par:\n",
    "#     wiki_text.append(' '.join(elm))\n",
    "\n",
    "# wiki_text = pd.DataFrame({'wiki_text': wiki_text})\n",
    "\n",
    "# # Apply function to clean the comment\n",
    "# wiki_text['wiki_clean'] = wiki_text.wiki_text.apply(clean_comment, lemma=True)\n",
    "# wiki_text['token_text'] = [[word for word in comment.split()] for comment in wiki_text['wiki_clean']]"
   ]
  },
  {
   "cell_type": "code",
   "execution_count": 201,
   "metadata": {},
   "outputs": [],
   "source": [
    "comment = df['token_text']\n",
    "# comment = pd.concat([wiki_text['token_text'], df['token_text']], ignore_index=True)"
   ]
  },
  {
   "cell_type": "code",
   "execution_count": 202,
   "metadata": {},
   "outputs": [],
   "source": [
    "# Create Dictionary\n",
    "dictionary = corpora.Dictionary(comment)\n",
    "\n",
    "# Term Document Frequency >> (id, freq) for each page\n",
    "corpus = [dictionary.doc2bow(text) for text in comment]\n",
    "\n",
    "# print('\\nPrint words and frequencies in the first comment:\\n')\n",
    "# print([[(dictionary[id], freq) for id, freq in page] for page in corpus[3:4]])\n",
    "# print('-' * 20)"
   ]
  },
  {
   "cell_type": "markdown",
   "metadata": {},
   "source": [
    "## TF-IDF"
   ]
  },
  {
   "cell_type": "code",
   "execution_count": 203,
   "metadata": {},
   "outputs": [
    {
     "name": "stdout",
     "output_type": "stream",
     "text": [
      "Small tfidf:\n",
      "\n",
      "vacuums: 0.03328732097497261\n",
      "landscaping: 0.03328732097497261\n",
      "hourlong: 0.03328732097497261\n",
      "cradle: 0.03328732097497261\n",
      "mailman: 0.03328732097497261\n",
      "ringer: 0.03328732097497261\n",
      "preparation: 0.03328732097497261\n",
      "offtime: 0.03328732097497261\n",
      "awake: 0.03328732097497261\n",
      "tracked: 0.03328732097497261\n",
      "\n",
      "Large tfidf:\n",
      "\n",
      "close: 1.0\n",
      "security: 1.0\n",
      "trust: 1.0\n",
      "follow: 1.0\n",
      "homekitprivacy: 1.0\n",
      "upgrade: 1.0\n",
      "hah: 0.9701651680907885\n",
      "rating: 0.9609096452151494\n",
      "film: 0.9609067018243865\n",
      "weak: 0.9471942181208346\n"
     ]
    },
    {
     "data": {
      "text/plain": [
       "<matplotlib.axes._subplots.AxesSubplot at 0x137ff9910>"
      ]
     },
     "execution_count": 203,
     "metadata": {},
     "output_type": "execute_result"
    },
    {
     "data": {
      "image/png": "[encoded data removed]",
      "text/plain": [
       "<Figure size 432x288 with 1 Axes>"
      ]
     },
     "metadata": {
      "needs_background": "light"
     },
     "output_type": "display_data"
    }
   ],
   "source": [
    "# TF-IDF model as pre-processing step\n",
    "cv = CountVectorizer()\n",
    "comment_token_vector = cv.fit_transform(df['clean_body'])\n",
    "# comment_token_vector = cv.fit_transform(pd.concat([wiki_text['wiki_clean'],\n",
    "#                                                    df['clean_body']], ignore_index=True))\n",
    "\n",
    "# Compute the IDF values\n",
    "tfidf_transformer = TfidfTransformer(smooth_idf=True, use_idf=True)\n",
    "tfidf_transformer.fit(comment_token_vector)\n",
    "\n",
    "# Compute the TFIDF score (new unseen dataset)\n",
    "count_vector = cv.transform(df['clean_body'])\n",
    "tfidf_vector = tfidf_transformer.transform(count_vector)\n",
    "\n",
    "# Check if it makes sense\n",
    "feature_names = np.array(cv.get_feature_names())\n",
    "\n",
    "# Remove the words that do not appear in the unseen dataset\n",
    "zero_index = np.where(tfidf_vector.max(0).toarray()[0] == 0)[0]\n",
    "feature_names = np.delete(feature_names, zero_index)\n",
    "tfidf_vector = np.delete(tfidf_vector.max(0).toarray()[0], zero_index)\n",
    "\n",
    "# max(0) equal max by columns\n",
    "# argsort: return the indices that would sort an array\n",
    "# sorted_tfidf_index = tfidf_vector.max(0).toarray()[0].argsort()\n",
    "sorted_tfidf_index = tfidf_vector.argsort()\n",
    "\n",
    "# Small: words commonly used across all documents and rarely used \n",
    "# in the particular document/low frequency term \n",
    "print('Small tfidf:\\n')\n",
    "for i in sorted_tfidf_index[:10]:\n",
    "    print('{}: {}'.format(feature_names[i],\n",
    "                                           tfidf_vector[i]))\n",
    "# Large: Term that appears frequently in a particular document, but not often in the corpus.\n",
    "print('\\nLarge tfidf:\\n')\n",
    "for i in sorted_tfidf_index[:-11:-1]:\n",
    "    print('{}: {}'.format(feature_names[i],\n",
    "                                           tfidf_vector[i]))\n",
    "    \n",
    "sns.distplot(tfidf_vector)\n",
    "# CONSIDER: find score threshold where words are deleted"
   ]
  },
  {
   "cell_type": "code",
   "execution_count": 204,
   "metadata": {},
   "outputs": [],
   "source": [
    "# Find the optimal number of topics\n",
    "def LdaMallet_coherence_values(dictionary, corpus, texts, limit, start = 2, step = 3):\n",
    "    '''\n",
    "    Compute c_v coherence for various number of topics\n",
    "    \n",
    "    Parameters:\n",
    "    ---------\n",
    "    dictionary: Gensim dictionary\n",
    "    corpus: Gensim corpus\n",
    "    texts: list of input texts\n",
    "    limit: max num of topics\n",
    "    \n",
    "    Returns:\n",
    "    ---------\n",
    "    model_list: list of LDA topic models\n",
    "    coherence_values: corresponding to the LDA model\n",
    "    '''\n",
    "    \n",
    "    mallet_path = 'mallet-2.0.8/bin/mallet'\n",
    "    \n",
    "    coherence_values = []\n",
    "    model_list = []\n",
    "\n",
    "    for num_topics in range(start, limit, step):\n",
    "        print('Running model with number of topics: ', num_topics)\n",
    "        model = gensim.models.wrappers.LdaMallet(mallet_path, corpus = corpus, num_topics = num_topics, id2word = dictionary)\n",
    "        model_list.append(model)\n",
    "\n",
    "        coherencemodel = CoherenceModel(model = model, texts = texts, dictionary = dictionary, coherence = 'c_v')\n",
    "        coherence_values.append(coherencemodel.get_coherence())\n",
    "\n",
    "    return model_list, coherence_values\n",
    "\n",
    "def LDA_coherence_values(dictionary, corpus, texts, limit, chunksize = 100, start=2, step=3):\n",
    "    '''\n",
    "    Compute c_v coherence for various number of topics\n",
    "\n",
    "    Parameters:\n",
    "    ---------\n",
    "    dictionary: Gensim dictionary\n",
    "    corpus: Gensim corpus\n",
    "    texts: list of input text \n",
    "    chunksize: number of documents to be used in each training chunk\n",
    "    limit: max num of topics\n",
    "\n",
    "    Returns:\n",
    "    ---------\n",
    "    model_list: list of LDA topic\n",
    "    coherence_values: corresponding to the LDA model\n",
    "    '''\n",
    "\n",
    "    coherence_values = []\n",
    "    model_list = []\n",
    "\n",
    "    for num_topics in range(start, limit, step):\n",
    "        print('Running model with number of topics: ', num_topics)\n",
    "        model = gensim.models.ldamodel.LdaModel(corpus=corpus, id2word=dictionary,\n",
    "                                                num_topics=num_topics, random_state=100, \n",
    "                                                update_every=1, chunksize=100, passes=10, \n",
    "                                                alpha='auto', per_word_topics=True)\n",
    "        \n",
    "        model_list.append(model)\n",
    "\n",
    "        coherencemodel = CoherenceModel(model = model, texts = texts, dictionary = dictionary, coherence = 'c_v')\n",
    "        coherence_values.append(coherencemodel.get_coherence())\n",
    "\n",
    "    return model_list, coherence_values"
   ]
  },
  {
   "cell_type": "code",
   "execution_count": 205,
   "metadata": {},
   "outputs": [
    {
     "name": "stdout",
     "output_type": "stream",
     "text": [
      "Running model with number of topics:  2\n",
      "Running model with number of topics:  3\n",
      "Running model with number of topics:  4\n",
      "Running model with number of topics:  5\n",
      "Running model with number of topics:  6\n",
      "Running model with number of topics:  7\n",
      "Running model with number of topics:  8\n",
      "Running model with number of topics:  9\n"
     ]
    }
   ],
   "source": [
    "model_list, coherence_values = LDA_coherence_values(dictionary=dictionary, corpus=corpus, \n",
    "                                                          texts=comment, start=2, limit=10, step=1)"
   ]
  },
  {
   "cell_type": "code",
   "execution_count": 206,
   "metadata": {},
   "outputs": [
    {
     "data": {
      "image/png": "[encoded data removed]",
      "text/plain": [
       "<Figure size 432x288 with 1 Axes>"
      ]
     },
     "metadata": {
      "needs_background": "light"
     },
     "output_type": "display_data"
    }
   ],
   "source": [
    "limit = 10\n",
    "start=2\n",
    "step=1\n",
    "x = range(start, limit, step)\n",
    "plt.plot(x, coherence_values)\n",
    "plt.plot(x[np.argmax(coherence_values)], max(coherence_values), 'or')\n",
    "plt.text(x[np.argmax(coherence_values)]+0.2, max(coherence_values), \n",
    "         r'({}, {})'.format(x[np.argmax(coherence_values)], np.round(max(coherence_values), 2)))\n",
    "plt.xlabel('Num Topics')\n",
    "plt.ylabel('Coherence score')\n",
    "plt.title('Coherence Scores with LDA Algorith Implementation')\n",
    "# plt.savefig('output/Topics_Coher_LDA_Model_page')\n",
    "plt.show()"
   ]
  },
  {
   "cell_type": "code",
   "execution_count": 207,
   "metadata": {},
   "outputs": [
    {
     "name": "stdout",
     "output_type": "stream",
     "text": [
      "\n",
      "LDA model: \n",
      "\n",
      "Nun Topics = 2  has Coherence Value of 0.386\n",
      "Nun Topics = 3  has Coherence Value of 0.4147\n",
      "Nun Topics = 4  has Coherence Value of 0.4674\n",
      "Nun Topics = 5  has Coherence Value of 0.4302\n",
      "Nun Topics = 6  has Coherence Value of 0.4458\n",
      "Nun Topics = 7  has Coherence Value of 0.4484\n",
      "Nun Topics = 8  has Coherence Value of 0.4547\n",
      "Nun Topics = 9  has Coherence Value of 0.4897\n",
      "--------------------\n"
     ]
    }
   ],
   "source": [
    "print('\\nLDA model: \\n')\n",
    "for num, cv in zip(x, coherence_values):\n",
    "    print('Nun Topics =', num, ' has Coherence Value of', round(cv, 4))\n",
    "print('-'*20)"
   ]
  },
  {
   "cell_type": "code",
   "execution_count": 208,
   "metadata": {},
   "outputs": [],
   "source": [
    "# Extract the model base on the topic number\n",
    "def model_extract(num_topics):\n",
    "    '''\n",
    "    Input: num_topics (int)\n",
    "    '''\n",
    "    # get number of topics\n",
    "    num, _ = zip(*list(zip(x,coherence_values)))\n",
    "    model = model_list[[i for i in range(len(num)) if num[i] == num_topics][0]]\n",
    "    \n",
    "    return model\n",
    "\n",
    "model = model_extract(4)"
   ]
  },
  {
   "cell_type": "code",
   "execution_count": 209,
   "metadata": {},
   "outputs": [],
   "source": [
    "# save model to disk\n",
    "temp_file = datapath(\"query_comm\")\n",
    "model.save(temp_file)\n",
    "# Load a potentially pretrained model from disk.\n",
    "# lda = LdaModel.load(temp_file)"
   ]
  },
  {
   "cell_type": "code",
   "execution_count": 210,
   "metadata": {},
   "outputs": [],
   "source": [
    "model_topics = model.show_topics(num_topics=4, num_words=10,formatted = False)"
   ]
  },
  {
   "cell_type": "code",
   "execution_count": 211,
   "metadata": {},
   "outputs": [
    {
     "name": "stdout",
     "output_type": "stream",
     "text": [
      "\n",
      " LDA topics: \n",
      "\n",
      "Topic:  0\n",
      "Keywords:  0.039*\"device\" + 0.032*\"network\" + 0.020*\"access\" + 0.017*\"internet\" + 0.015*\"datum\" + 0.013*\"security\" + 0.012*\"secure\" + 0.011*\"wifi\" + 0.009*\"router\" + 0.009*\"identical\" + 0.008*\"cloud\" + 0.008*\"server\" + 0.008*\"firmware\" + 0.008*\"local\" + 0.007*\"hack\" + 0.006*\"iot\" + 0.006*\"vlan\" + 0.005*\"connect\" + 0.004*\"run\" + 0.004*\"ip\"\n",
      "Topic:  1\n",
      "Keywords:  0.012*\"burn\" + 0.009*\"mode\" + 0.007*\"phyn\" + 0.007*\"com\" + 0.006*\"contact\" + 0.006*\"click\" + 0.005*\"plate\" + 0.004*\"sd\" + 0.004*\"pressure\" + 0.004*\"card\" + 0.004*\"copper\" + 0.004*\"would\" + 0.004*\"plumber\" + 0.003*\"ac\" + 0.003*\"credit\" + 0.003*\"welcome\" + 0.003*\"knock\" + 0.003*\"reply\" + 0.003*\"member\" + 0.003*\"ramp\"\n",
      "Topic:  2\n",
      "Keywords:  0.021*\"system\" + 0.017*\"use\" + 0.017*\"switch\" + 0.016*\"smart\" + 0.012*\"lock\" + 0.012*\"door\" + 0.010*\"automation\" + 0.010*\"house\" + 0.010*\"get\" + 0.010*\"light\" + 0.009*\"zwave\" + 0.009*\"wire\" + 0.009*\"control\" + 0.009*\"want\" + 0.009*\"homeseer\" + 0.008*\"bulb\" + 0.008*\"work\" + 0.008*\"need\" + 0.008*\"open\" + 0.008*\"device\"\n",
      "Topic:  3\n",
      "Keywords:  0.046*\"trust\" + 0.014*\"company\" + 0.014*\"get\" + 0.012*\"go\" + 0.012*\"use\" + 0.011*\"product\" + 0.011*\"say\" + 0.011*\"know\" + 0.010*\"think\" + 0.009*\"make\" + 0.009*\"people\" + 0.008*\"google\" + 0.008*\"thing\" + 0.008*\"camera\" + 0.007*\"support\" + 0.007*\"try\" + 0.006*\"time\" + 0.006*\"money\" + 0.006*\"pay\" + 0.006*\"customer\"\n",
      "--------------------\n"
     ]
    }
   ],
   "source": [
    "print('\\n LDA topics: \\n')\n",
    "for topic, keyword in model.print_topics(num_words=20):\n",
    "    print('Topic: ', topic)\n",
    "    print('Keywords: ', keyword)\n",
    "print('-'*20)"
   ]
  },
  {
   "cell_type": "code",
   "execution_count": 212,
   "metadata": {},
   "outputs": [
    {
     "data": {
      "text/html": [
       "\n",
       "<link rel=\"stylesheet\" type=\"text/css\" href=\"https://cdn.rawgit.com/bmabey/pyLDAvis/files/ldavis.v1.0.0.css\">\n",
       "\n",
       "\n",
       "<div id=\"ldavis_el94349547054889432351934\"></div>\n",
       "<script type=\"text/javascript\">\n",
       "\n",
       "var ldavis_el94349547054889432351934_data = {\"mdsDat\": {\"x\": [0.21259909592091278, 0.1736576712207405, -0.20873326417984503, -0.17752350296180772], \"y\": [-0.18444763809341957, 0.20893679694226366, 0.04541776976240775, -0.06990692861125193], \"topics\": [1, 2, 3, 4], \"cluster\": [1, 1, 1, 1], \"Freq\": [44.37859344482422, 40.96037292480469, 12.420948028564453, 2.240083694458008]}, \"tinfo\": {\"Category\": [\"Default\", \"Default\", \"Default\", \"Default\", \"Default\", \"Default\", \"Default\", \"Default\", \"Default\", \"Default\", \"Default\", \"Default\", \"Default\", \"Default\", \"Default\", \"Default\", \"Default\", \"Default\", \"Default\", \"Default\", \"Default\", \"Default\", \"Default\", \"Default\", \"Default\", \"Default\", \"Default\", \"Default\", \"Default\", \"Default\", \"Topic1\", \"Topic1\", \"Topic1\", \"Topic1\", \"Topic1\", \"Topic1\", \"Topic1\", \"Topic1\", \"Topic1\", \"Topic1\", \"Topic1\", \"Topic1\", \"Topic1\", \"Topic1\", \"Topic1\", \"Topic1\", \"Topic1\", \"Topic1\", \"Topic1\", \"Topic1\", \"Topic1\", \"Topic1\", \"Topic1\", \"Topic1\", \"Topic1\", \"Topic1\", \"Topic1\", \"Topic1\", \"Topic1\", \"Topic1\", \"Topic1\", \"Topic1\", \"Topic1\", \"Topic1\", \"Topic1\", \"Topic1\", \"Topic1\", \"Topic1\", \"Topic1\", \"Topic1\", \"Topic1\", \"Topic1\", \"Topic1\", \"Topic1\", \"Topic1\", \"Topic1\", \"Topic1\", \"Topic1\", \"Topic1\", \"Topic1\", \"Topic1\", \"Topic1\", \"Topic1\", \"Topic2\", \"Topic2\", \"Topic2\", \"Topic2\", \"Topic2\", \"Topic2\", \"Topic2\", \"Topic2\", \"Topic2\", \"Topic2\", \"Topic2\", \"Topic2\", \"Topic2\", \"Topic2\", \"Topic2\", \"Topic2\", \"Topic2\", \"Topic2\", \"Topic2\", \"Topic2\", \"Topic2\", \"Topic2\", \"Topic2\", \"Topic2\", \"Topic2\", \"Topic2\", \"Topic2\", \"Topic2\", \"Topic2\", \"Topic2\", \"Topic2\", \"Topic2\", \"Topic2\", \"Topic2\", \"Topic2\", \"Topic2\", \"Topic2\", \"Topic2\", \"Topic2\", \"Topic2\", \"Topic2\", \"Topic2\", \"Topic2\", \"Topic2\", \"Topic2\", \"Topic2\", \"Topic2\", \"Topic2\", \"Topic2\", \"Topic2\", \"Topic3\", \"Topic3\", \"Topic3\", \"Topic3\", \"Topic3\", \"Topic3\", \"Topic3\", \"Topic3\", \"Topic3\", \"Topic3\", \"Topic3\", \"Topic3\", \"Topic3\", \"Topic3\", \"Topic3\", \"Topic3\", \"Topic3\", \"Topic3\", \"Topic3\", \"Topic3\", \"Topic3\", \"Topic3\", \"Topic3\", \"Topic3\", \"Topic3\", \"Topic3\", \"Topic3\", \"Topic3\", \"Topic3\", \"Topic3\", \"Topic3\", \"Topic3\", \"Topic3\", \"Topic3\", \"Topic3\", \"Topic3\", \"Topic3\", \"Topic3\", \"Topic3\", \"Topic3\", \"Topic3\", \"Topic3\", \"Topic3\", \"Topic3\", \"Topic3\", \"Topic4\", \"Topic4\", \"Topic4\", \"Topic4\", \"Topic4\", \"Topic4\", \"Topic4\", \"Topic4\", \"Topic4\", \"Topic4\", \"Topic4\", \"Topic4\", \"Topic4\", \"Topic4\", \"Topic4\", \"Topic4\", \"Topic4\", \"Topic4\", \"Topic4\", \"Topic4\", \"Topic4\", \"Topic4\", \"Topic4\", \"Topic4\", \"Topic4\", \"Topic4\", \"Topic4\", \"Topic4\", \"Topic4\", \"Topic4\", \"Topic4\", \"Topic4\", \"Topic4\", \"Topic4\", \"Topic4\", \"Topic4\"], \"Freq\": [2659.0, 1030.0, 508.0, 1148.0, 913.0, 375.0, 818.0, 310.0, 661.0, 923.0, 628.0, 653.0, 246.0, 455.0, 619.0, 518.0, 499.0, 496.0, 627.0, 529.0, 194.0, 562.0, 459.0, 899.0, 447.0, 485.0, 399.0, 604.0, 623.0, 265.0, 2659.094970703125, 817.616943359375, 652.7946166992188, 618.8729248046875, 528.3200073242188, 395.4866027832031, 361.1763916015625, 363.8163146972656, 350.3440246582031, 325.7056579589844, 289.3442077636719, 299.892822265625, 275.4062194824219, 195.99217224121094, 189.5227813720703, 177.03175354003906, 177.9422149658203, 150.00755310058594, 152.9633331298828, 147.57879638671875, 140.6675262451172, 138.94406127929688, 133.06838989257812, 122.18527221679688, 125.41806030273438, 130.3572540283203, 123.24882507324219, 139.31381225585938, 119.74569702148438, 156.1116943359375, 481.5849914550781, 554.5022583007812, 239.67318725585938, 611.833984375, 220.35470581054688, 343.64453125, 436.9241638183594, 194.44358825683594, 245.96112060546875, 545.138427734375, 395.8787536621094, 702.7169799804688, 790.4710693359375, 455.91644287109375, 325.8504638671875, 670.1307983398438, 272.431884765625, 313.9992370605469, 366.38140869140625, 307.9500427246094, 344.1268615722656, 320.6067810058594, 292.5570983886719, 912.453125, 660.7031860351562, 627.7733764648438, 517.2971801757812, 495.95550537109375, 499.1752014160156, 446.502685546875, 398.95941162109375, 373.5928955078125, 458.042724609375, 313.3636474609375, 228.45260620117188, 320.8957214355469, 224.8119354248047, 204.03326416015625, 194.52914428710938, 188.44078063964844, 171.8666534423828, 162.7715301513672, 376.9841003417969, 165.39108276367188, 152.8937225341797, 150.1818084716797, 146.9633026123047, 148.99319458007812, 135.45664978027344, 140.48536682128906, 129.58340454101562, 128.22166442871094, 126.13817596435547, 1128.148681640625, 137.92221069335938, 302.9416198730469, 151.0813751220703, 224.26295471191406, 848.6258544921875, 485.57379150390625, 541.561767578125, 552.230712890625, 425.16705322265625, 917.4183349609375, 288.9083557128906, 469.69818115234375, 434.1348571777344, 443.7146301269531, 519.2681274414062, 354.884033203125, 402.2832336425781, 377.0871887207031, 349.5688171386719, 507.76788330078125, 246.12754821777344, 193.645751953125, 123.1740951538086, 107.10369110107422, 101.13191223144531, 97.25946807861328, 68.72953796386719, 64.66142272949219, 62.30851745605469, 60.733428955078125, 63.15378189086914, 64.752197265625, 62.48505783081055, 57.512691497802734, 51.67915725708008, 54.45783615112305, 50.16094207763672, 51.73219680786133, 48.10111999511719, 46.21441650390625, 50.181339263916016, 54.325801849365234, 42.953128814697266, 40.111305236816406, 40.218780517578125, 39.20991516113281, 39.01396942138672, 41.18203353881836, 42.68709945678711, 45.16954040527344, 138.48422241210938, 276.82415771484375, 329.8718566894531, 138.58447265625, 123.20507049560547, 626.9292602539062, 122.92442321777344, 132.88221740722656, 179.81112670898438, 205.158447265625, 83.87531280517578, 66.74787902832031, 72.41923522949219, 63.18141555786133, 33.991920471191406, 25.751598358154297, 21.601261138916016, 16.160076141357422, 13.232526779174805, 12.805410385131836, 11.869352340698242, 11.041528701782227, 10.636225700378418, 9.408806800842285, 9.630159378051758, 8.698001861572266, 8.28943920135498, 8.621969223022461, 8.673558235168457, 9.77883529663086, 7.707233428955078, 8.488174438476562, 7.031567573547363, 7.489100456237793, 9.57555866241455, 8.087289810180664, 6.958804607391357, 7.217936992645264, 5.881591796875, 7.238033294677734, 5.9715657234191895, 6.514467239379883, 6.431880950927734, 5.88600492477417, 11.58745288848877, 6.720371723175049, 18.92987060546875, 18.30721092224121, 11.798254013061523, 7.165878772735596], \"Term\": [\"trust\", \"device\", \"network\", \"system\", \"switch\", \"access\", \"company\", \"internet\", \"lock\", \"smart\", \"door\", \"product\", \"datum\", \"wifi\", \"say\", \"light\", \"zwave\", \"wire\", \"know\", \"people\", \"secure\", \"think\", \"homeseer\", \"security\", \"bulb\", \"google\", \"sensor\", \"house\", \"automation\", \"cloud\", \"trust\", \"company\", \"product\", \"say\", \"people\", \"try\", \"pay\", \"money\", \"customer\", \"little\", \"amazon\", \"charge\", \"bug\", \"video\", \"seem\", \"happen\", \"agree\", \"industry\", \"difference\", \"admit\", \"affect\", \"interest\", \"certification\", \"ring\", \"tech\", \"legit\", \"question\", \"ensure\", \"review\", \"interested\", \"google\", \"think\", \"much\", \"know\", \"least\", \"see\", \"camera\", \"consumer\", \"give\", \"make\", \"support\", \"go\", \"get\", \"thing\", \"way\", \"use\", \"find\", \"good\", \"time\", \"buy\", \"security\", \"work\", \"want\", \"switch\", \"lock\", \"door\", \"light\", \"wire\", \"zwave\", \"bulb\", \"sensor\", \"hub\", \"homeseer\", \"power\", \"smartthing\", \"protocol\", \"alarm\", \"room\", \"white\", \"motion\", \"battery\", \"controller\", \"turn\", \"bulbs\", \"hue\", \"plug\", \"zigbee\", \"rgb\", \"water\", \"box\", \"wall\", \"window\", \"garage\", \"system\", \"wattage\", \"lead\", \"certify\", \"add\", \"smart\", \"control\", \"house\", \"automation\", \"open\", \"use\", \"run\", \"want\", \"need\", \"work\", \"get\", \"time\", \"device\", \"go\", \"security\", \"network\", \"datum\", \"secure\", \"firmware\", \"hack\", \"iot\", \"vlan\", \"ip\", \"block\", \"firewall\", \"lan\", \"address\", \"lol\", \"speak\", \"false\", \"password\", \"request\", \"traffic\", \"positive\", \"machine\", \"pass\", \"professional\", \"prove\", \"ad\", \"attack\", \"compromise\", \"vpn\", \"prevent\", \"accessible\", \"communication\", \"player\", \"identical\", \"internet\", \"access\", \"router\", \"server\", \"device\", \"local\", \"cloud\", \"wifi\", \"security\", \"connect\", \"user\", \"run\", \"service\", \"burn\", \"mode\", \"phyn\", \"click\", \"plate\", \"sd\", \"pressure\", \"would\", \"plumber\", \"knock\", \"credit\", \"reply\", \"flight\", \"ramp\", \"member\", \"ac\", \"broker\", \"wear\", \"nfc\", \"salt\", \"welcome\", \"acceptable\", \"emergency\", \"finger\", \"neighborhood\", \"grain\", \"register\", \"heart\", \"beat\", \"assessment\", \"copper\", \"description\", \"com\", \"contact\", \"card\", \"message\"], \"Total\": [2659.0, 1030.0, 508.0, 1148.0, 913.0, 375.0, 818.0, 310.0, 661.0, 923.0, 628.0, 653.0, 246.0, 455.0, 619.0, 518.0, 499.0, 496.0, 627.0, 529.0, 194.0, 562.0, 459.0, 899.0, 447.0, 485.0, 399.0, 604.0, 623.0, 265.0, 2659.933837890625, 818.402099609375, 653.5720825195312, 619.6497802734375, 529.0980224609375, 396.2649841308594, 361.9614562988281, 364.6124572753906, 351.1205139160156, 326.48358154296875, 290.11175537109375, 300.6903991699219, 276.21954345703125, 196.76820373535156, 190.30477905273438, 177.81834411621094, 178.8072509765625, 150.79818725585938, 153.77098083496094, 148.36077880859375, 141.46974182128906, 139.75576782226562, 133.8844451904297, 122.95173645019531, 126.20965576171875, 131.18365478515625, 124.03421020507812, 140.20387268066406, 120.52003479003906, 157.12496948242188, 485.5495300292969, 562.9613037109375, 241.4156036376953, 627.4868774414062, 224.86956787109375, 366.6055908203125, 477.4590759277344, 200.32998657226562, 259.1022644042969, 712.7827758789062, 495.47320556640625, 1080.3939208984375, 1310.2320556640625, 640.5288696289062, 427.1275634765625, 1638.784912109375, 371.6692199707031, 489.444091796875, 721.7587890625, 489.0845947265625, 899.0285034179688, 764.8125, 762.7498779296875, 913.2284545898438, 661.4675903320312, 628.526611328125, 518.0521240234375, 496.7164611816406, 499.950927734375, 447.2688903808594, 399.7069396972656, 374.3480529785156, 459.1233825683594, 314.12506103515625, 229.20619201660156, 321.9737548828125, 225.5724334716797, 204.79627990722656, 195.30633544921875, 189.21463012695312, 172.62355041503906, 163.53298950195312, 378.7606506347656, 166.17385864257812, 153.64834594726562, 150.94039916992188, 147.71620178222656, 149.83892822265625, 136.23040771484375, 141.3000946044922, 130.3395233154297, 128.97943115234375, 126.88697052001953, 1148.0728759765625, 138.82264709472656, 307.5833740234375, 152.3191680908203, 228.54647827148438, 923.402099609375, 518.1676025390625, 604.1986694335938, 623.9559936523438, 483.50439453125, 1638.784912109375, 361.7732238769531, 762.7498779296875, 713.4764404296875, 764.8125, 1310.2320556640625, 721.7587890625, 1030.840087890625, 1080.3939208984375, 899.0285034179688, 508.4947814941406, 246.84877014160156, 194.39271545410156, 123.94278717041016, 107.83641052246094, 101.85321044921875, 97.96762084960938, 69.4595718383789, 65.39418029785156, 63.02032470703125, 61.455299377441406, 63.93003463745117, 65.5960922241211, 63.306697845458984, 58.29924774169922, 52.390525817871094, 55.21574783325195, 50.89151382446289, 52.556053161621094, 48.87746810913086, 46.9769401550293, 51.028602600097656, 55.243431091308594, 43.686439514160156, 40.82500457763672, 40.94257354736328, 39.93013000488281, 39.77067565917969, 41.98519515991211, 43.553707122802734, 46.10659408569336, 143.24957275390625, 310.6007995605469, 375.34466552734375, 155.22328186035156, 141.3438720703125, 1030.840087890625, 202.4461212158203, 265.4608459472656, 455.3997802734375, 899.0285034179688, 245.57594299316406, 164.88478088378906, 361.7732238769531, 205.49290466308594, 34.942604064941406, 26.70257568359375, 22.59250831604004, 17.027402877807617, 14.112195014953613, 13.705382347106934, 12.759090423583984, 11.901103019714355, 11.510068893432617, 10.310163497924805, 10.572831153869629, 9.582834243774414, 9.138914108276367, 9.515155792236328, 9.597624778747559, 10.854315757751465, 8.58845329284668, 9.512868881225586, 7.902968406677246, 8.44903564453125, 10.859646797180176, 9.24531078338623, 7.967278957366943, 8.267282485961914, 6.74441385269165, 8.306209564208984, 6.861385345458984, 7.5039520263671875, 7.421303749084473, 6.850352764129639, 13.561372756958008, 7.854901313781738, 30.806854248046875, 55.554969787597656, 46.765113830566406, 59.63136291503906], \"loglift\": [30.0, 29.0, 28.0, 27.0, 26.0, 25.0, 24.0, 23.0, 22.0, 21.0, 20.0, 19.0, 18.0, 17.0, 16.0, 15.0, 14.0, 13.0, 12.0, 11.0, 10.0, 9.0, 8.0, 7.0, 6.0, 5.0, 4.0, 3.0, 2.0, 1.0, 0.8120999932289124, 0.8115000128746033, 0.8112000226974487, 0.8112000226974487, 0.8108999729156494, 0.8104000091552734, 0.8101999759674072, 0.8101999759674072, 0.8101999759674072, 0.8100000023841858, 0.8098000288009644, 0.8098000288009644, 0.809499979019165, 0.8084999918937683, 0.8083000183105469, 0.8080000281333923, 0.8076000213623047, 0.807200014591217, 0.8070999979972839, 0.8070999979972839, 0.8066999912261963, 0.8065999746322632, 0.8062999844551086, 0.8062000274658203, 0.8061000108718872, 0.8061000108718872, 0.8061000108718872, 0.8059999942779541, 0.8059999942779541, 0.805899977684021, 0.8041999936103821, 0.7972999811172485, 0.8051999807357788, 0.7871999740600586, 0.7921000123023987, 0.7476999759674072, 0.7236999869346619, 0.7825999855995178, 0.7603999972343445, 0.5443000197410583, 0.5879999995231628, 0.3822999894618988, 0.30709999799728394, 0.4724000096321106, 0.5418000221252441, -0.08179999887943268, 0.501800000667572, 0.3684999942779541, 0.13439999520778656, 0.3497999906539917, -0.14790000021457672, -0.05700000002980232, -0.14589999616146088, 0.891700029373169, 0.8913999795913696, 0.8913999795913696, 0.8910999894142151, 0.890999972820282, 0.890999972820282, 0.8909000158309937, 0.8906999826431274, 0.890500009059906, 0.8902000188827515, 0.8901000022888184, 0.8892999887466431, 0.88919997215271, 0.88919997215271, 0.8888000249862671, 0.8885999917984009, 0.8884999752044678, 0.8881999850273132, 0.8878999948501587, 0.8878999948501587, 0.8877999782562256, 0.8876000046730042, 0.887499988079071, 0.887499988079071, 0.886900007724762, 0.886900007724762, 0.8867999911308289, 0.8866999745368958, 0.8866999745368958, 0.8866000175476074, 0.8751000165939331, 0.8860999941825867, 0.8773999810218811, 0.8844000101089478, 0.8736000061035156, 0.8080999851226807, 0.8276000022888184, 0.7831000089645386, 0.7705000042915344, 0.7639999985694885, 0.3124000132083893, 0.6676999926567078, 0.4077000021934509, 0.39579999446868896, 0.3481000065803528, -0.032999999821186066, 0.1826999932527542, -0.04839999973773956, -0.1599999964237213, -0.052000001072883606, 2.084399938583374, 2.082900047302246, 2.081899881362915, 2.0796000957489014, 2.0789999961853027, 2.078700065612793, 2.0785000324249268, 2.075200080871582, 2.07450008392334, 2.074399948120117, 2.0739998817443848, 2.0736000537872314, 2.0727999210357666, 2.072700023651123, 2.072200059890747, 2.0720999240875244, 2.072000026702881, 2.0713000297546387, 2.069999933242798, 2.0697999000549316, 2.0694000720977783, 2.069000005722046, 2.069000005722046, 2.0689001083374023, 2.0680999755859375, 2.0678999423980713, 2.0676000118255615, 2.0666000843048096, 2.066499948501587, 2.065700054168701, 2.0652999877929688, 2.052000045776367, 1.9707000255584717, 1.9565999507904053, 1.9723999500274658, 1.9484000205993652, 1.5885000228881836, 1.586899995803833, 1.3938000202178955, 1.156499981880188, 0.608299970626831, 1.0115000009536743, 1.18149995803833, 0.4772000014781952, 0.9064000248908997, 3.7711000442504883, 3.762399911880493, 3.7537999153137207, 3.7464001178741455, 3.734299898147583, 3.7307000160217285, 3.7263998985290527, 3.7237000465393066, 3.7197000980377197, 3.707200050354004, 3.7053000926971436, 3.7018001079559326, 3.7011001110076904, 3.7000999450683594, 3.6974000930786133, 3.6942999362945557, 3.6903998851776123, 3.6847000122070312, 3.68179988861084, 3.678100109100342, 3.672800064086914, 3.664799928665161, 3.663300037384033, 3.662899971008301, 3.661799907684326, 3.6610000133514404, 3.6598000526428223, 3.6572999954223633, 3.655600070953369, 3.646899938583374, 3.641400098800659, 3.642699956893921, 3.3117001056671143, 2.6886000633239746, 2.4214999675750732, 1.679800033569336], \"logprob\": [30.0, 29.0, 28.0, 27.0, 26.0, 25.0, 24.0, 23.0, 22.0, 21.0, 20.0, 19.0, 18.0, 17.0, 16.0, 15.0, 14.0, 13.0, 12.0, 11.0, 10.0, 9.0, 8.0, 7.0, 6.0, 5.0, 4.0, 3.0, 2.0, 1.0, -3.0741000175476074, -4.253499984741211, -4.478600025177002, -4.5320000648498535, -4.690199851989746, -4.979700088500977, -5.070499897003174, -5.063199996948242, -5.100900173187256, -5.173900127410889, -5.292200088500977, -5.256400108337402, -5.341599941253662, -5.68179988861084, -5.715400218963623, -5.7835001945495605, -5.77839994430542, -5.94920015335083, -5.929699897766113, -5.9654998779296875, -6.013500213623047, -6.0258002281188965, -6.068999767303467, -6.154300212860107, -6.128200054168701, -6.089600086212158, -6.145699977874756, -6.023099899291992, -6.174499988555908, -5.909299850463867, -4.782800197601318, -4.6417999267578125, -5.480599880218506, -4.543399810791016, -5.564599990844727, -5.120299816131592, -4.880099773406982, -5.689700126647949, -5.454699993133545, -4.65880012512207, -4.978799819946289, -4.404900074005127, -4.287199974060059, -4.837600231170654, -5.173399925231934, -4.452400207519531, -5.352499961853027, -5.2104997634887695, -5.05620002746582, -5.229899883270264, -5.118899822235107, -5.189599990844727, -5.281199932098389, -4.063600063323975, -4.38640022277832, -4.4375, -4.631100177764893, -4.6732001304626465, -4.666800022125244, -4.778299808502197, -4.890900135040283, -4.956500053405762, -4.752799987792969, -5.132299900054932, -5.448400020599365, -5.10860013961792, -5.464399814605713, -5.561399936676025, -5.609099864959717, -5.640900135040283, -5.732999801635742, -5.787399768829346, -4.947500228881836, -5.771399974822998, -5.849999904632568, -5.8678998947143555, -5.889500141143799, -5.875800132751465, -5.971099853515625, -5.934599876403809, -6.015399932861328, -6.026000022888184, -6.042300224304199, -3.8513998985290527, -5.953000068664551, -5.166200160980225, -5.8618998527526855, -5.466899871826172, -4.136099815368652, -4.694399833679199, -4.585299968719482, -4.565700054168701, -4.827199935913086, -4.05810022354126, -5.213600158691406, -4.72760009765625, -4.806399822235107, -4.7845001220703125, -4.627299785614014, -5.007900238037109, -4.882599830627441, -4.947199821472168, -5.0229997634887695, -3.4565000534057617, -4.180600166320801, -4.420499801635742, -4.872900009155273, -5.012700080871582, -5.070099830627441, -5.109099864959717, -5.456299781799316, -5.517300128936768, -5.5543999671936035, -5.579999923706055, -5.540900230407715, -5.515900135040283, -5.551599979400635, -5.634500026702881, -5.741399765014648, -5.6890997886657715, -5.771299839019775, -5.7403998374938965, -5.813199996948242, -5.8531999588012695, -5.7708001136779785, -5.691500186920166, -5.926400184631348, -5.994800090789795, -5.992199897766113, -6.017600059509277, -6.022600173950195, -5.968500137329102, -5.932600021362305, -5.876100063323975, -4.75570011138916, -4.0630998611450195, -3.8877999782562256, -4.755000114440918, -4.872600078582764, -3.245699882507324, -4.874899864196777, -4.796999931335449, -4.49459981918335, -4.36269998550415, -5.257199764251709, -5.485599994659424, -5.4039998054504395, -5.540500164031982, -4.447500228881836, -4.725100040435791, -4.900899887084961, -5.191100120544434, -5.390900135040283, -5.423799991607666, -5.49970006942749, -5.572000026702881, -5.609399795532227, -5.73199987411499, -5.708700180053711, -5.810500144958496, -5.85860013961792, -5.819300174713135, -5.813300132751465, -5.693399906158447, -5.93149995803833, -5.83489990234375, -6.023200035095215, -5.96019983291626, -5.714399814605713, -5.883299827575684, -6.033599853515625, -5.997099876403809, -6.2017998695373535, -5.99429988861084, -6.186600208282471, -6.099599838256836, -6.112400054931641, -6.201000213623047, -5.52370023727417, -6.06850004196167, -5.032899856567383, -5.066299915313721, -5.50570011138916, -6.004300117492676]}, \"token.table\": {\"Topic\": [4, 4, 2, 3, 3, 3, 1, 2, 3, 1, 1, 1, 2, 1, 4, 3, 1, 2, 2, 4, 3, 2, 4, 1, 2, 2, 4, 1, 2, 1, 2, 1, 4, 1, 1, 2, 1, 4, 1, 2, 3, 1, 4, 3, 1, 3, 2, 3, 1, 3, 1, 2, 4, 2, 3, 2, 1, 2, 3, 4, 4, 1, 3, 4, 1, 2, 3, 1, 2, 4, 1, 3, 1, 2, 4, 3, 3, 4, 2, 1, 2, 1, 2, 3, 1, 2, 1, 2, 1, 2, 4, 3, 1, 4, 1, 2, 1, 2, 2, 2, 1, 2, 3, 1, 1, 1, 2, 2, 3, 3, 3, 4, 1, 2, 3, 1, 2, 1, 2, 1, 2, 1, 1, 2, 3, 2, 3, 3, 1, 2, 4, 1, 2, 4, 4, 1, 2, 1, 2, 1, 2, 3, 4, 3, 4, 1, 2, 3, 3, 1, 1, 4, 4, 3, 2, 4, 3, 2, 4, 3, 1, 3, 1, 2, 3, 1, 4, 4, 4, 3, 1, 2, 1, 2, 2, 3, 2, 3, 4, 1, 4, 3, 1, 2, 3, 1, 2, 1, 2, 2, 3, 1, 3, 1, 2, 2, 3, 1, 2, 2, 1, 2, 1, 1, 2, 1, 2, 1, 2, 3, 1, 1, 1, 2, 1, 2, 3, 1, 3, 1, 3, 3, 2, 1, 2, 2, 2, 1, 2, 4, 1, 4, 2, 2, 3, 2, 2, 1, 2, 4, 2, 2], \"Freq\": [0.9212925434112549, 0.8653035163879395, 0.11988981068134308, 0.8791919350624084, 0.9765347242355347, 0.9842871427536011, 0.017501911148428917, 0.9801070094108582, 0.9854522943496704, 0.9975682497024536, 0.9966795444488525, 0.9954853653907776, 0.9974623322486877, 0.9961678385734558, 0.8758673071861267, 0.9797917008399963, 0.11379007250070572, 0.8846777677536011, 0.996387779712677, 0.8084833025932312, 0.9939722418785095, 0.990799069404602, 0.9314832091331482, 0.9955849051475525, 0.9993988275527954, 0.9929359555244446, 0.9730241894721985, 0.6297479271888733, 0.3700791299343109, 0.9152616858482361, 0.0837768167257309, 0.7270376682281494, 0.2566015422344208, 0.9933939576148987, 0.006565161980688572, 0.9913394451141357, 0.9977039694786072, 0.9396618008613586, 0.4671122133731842, 0.03390330448746681, 0.5010154843330383, 0.3570633828639984, 0.6167458891868591, 0.9872868061065674, 0.9995086789131165, 0.9769781827926636, 0.6556016802787781, 0.34205305576324463, 0.9684022068977356, 0.024958819150924683, 0.306003212928772, 0.360003799200058, 0.3240034282207489, 0.9379204511642456, 0.06175608187913895, 0.9967407584190369, 0.07373885065317154, 0.07373885065317154, 0.07373885065317154, 0.8848661780357361, 0.9458204507827759, 0.9968087673187256, 0.996561586856842, 0.8911633491516113, 0.0009700825903564692, 0.3899731934070587, 0.6082417964935303, 0.9949861764907837, 0.9991621375083923, 0.8785935640335083, 0.991413414478302, 0.9948670268058777, 0.7318335175514221, 0.2663658857345581, 0.8467110991477966, 0.9838095903396606, 0.9923933744430542, 0.8753775358200073, 0.9930097460746765, 0.6029466390609741, 0.3961130380630493, 0.9494320750236511, 0.02701636031270027, 0.02315687946975231, 0.6506885886192322, 0.34894680976867676, 0.6415441632270813, 0.3575485050678253, 0.9926896691322327, 0.006178566254675388, 0.8427429795265198, 0.9922437071800232, 0.9953978657722473, 0.9328417778015137, 0.0021780638489872217, 0.9975532293319702, 0.10261525213718414, 0.8970559239387512, 0.9990702271461487, 0.995780348777771, 0.013961647637188435, 0.02094247005879879, 0.9633536338806152, 0.994706928730011, 0.9945922493934631, 0.9928402900695801, 0.0063643609173595905, 0.10624570399522781, 0.891819953918457, 0.9916231632232666, 0.9933835864067078, 0.8729250431060791, 0.9753192067146301, 0.02390488237142563, 0.992591381072998, 0.013004603795707226, 0.9850987792015076, 0.9783449172973633, 0.01778808981180191, 0.9909771084785461, 0.9979690909385681, 0.9985188245773315, 0.1827646791934967, 0.2074626088142395, 0.6075690388679504, 0.9992930889129639, 0.990912675857544, 0.9820476174354553, 0.7646088004112244, 0.23429298400878906, 0.9377320408821106, 0.7881758213043213, 0.0838484913110733, 0.11738789081573486, 0.9736888408660889, 0.9983202219009399, 0.99358069896698, 0.9941362142562866, 0.004142234101891518, 0.3826335072517395, 0.6082891821861267, 0.008409528061747551, 0.8896251320838928, 0.9990269541740417, 0.8857431411743164, 0.11995754390954971, 0.8789992332458496, 0.9792038202285767, 0.9925458431243896, 0.9973437786102295, 0.9979247450828552, 0.9737741351127625, 0.9211890697479248, 0.9759992361068726, 0.9937697052955627, 0.9556849598884583, 0.9894198179244995, 0.9964184165000916, 0.9405059218406677, 0.9806219935417175, 0.9991247057914734, 0.9798426032066345, 0.0031058432068675756, 0.9969756603240967, 0.9774917960166931, 0.9916619062423706, 0.945859432220459, 0.8744589686393738, 0.9391793608665466, 0.9779818654060364, 0.9956851005554199, 0.9944011569023132, 0.9922592639923096, 0.9961118698120117, 0.10307732224464417, 0.895484209060669, 0.7988429665565491, 0.19901970028877258, 0.8284969329833984, 0.9989513754844666, 0.9485324621200562, 0.9979797601699829, 0.3826352655887604, 0.3893091380596161, 0.22802391648292542, 0.9383381009101868, 0.060009997338056564, 0.99839848279953, 0.9982313513755798, 0.12734898924827576, 0.8702181577682495, 0.6910214424133301, 0.30657991766929626, 0.0801384374499321, 0.9194260835647583, 0.9947375059127808, 0.9793592691421509, 0.7992359399795532, 0.1998089849948883, 0.998654842376709, 0.016549471765756607, 0.9825160503387451, 0.9904155135154724, 0.711911678314209, 0.28726261854171753, 0.985858142375946, 0.014210567809641361, 0.5070946216583252, 0.49185407161712646, 0.9824820756912231, 0.999648928642273, 0.9968077540397644, 0.0026401898358017206, 0.9953515529632568, 0.40883949398994446, 0.5595608949661255, 0.03112061880528927, 0.5943544507026672, 0.40634435415267944, 0.9960958957672119, 0.9901230335235596, 0.9767060875892639, 0.9973950982093811, 0.3841364085674286, 0.6161915063858032, 0.9909681677818298, 0.9940741062164307, 0.7632380127906799, 0.23646332323551178, 0.8409660458564758, 0.09208402782678604, 0.9208402633666992, 0.9984315037727356, 0.6038650274276733, 0.3952571153640747, 0.9924063086509705, 0.9985576272010803, 0.4197107255458832, 0.5805344581604004, 0.9242841005325317, 0.9951515197753906, 0.9980979561805725], \"Term\": [\"ac\", \"acceptable\", \"access\", \"access\", \"accessible\", \"ad\", \"add\", \"add\", \"address\", \"admit\", \"affect\", \"agree\", \"alarm\", \"amazon\", \"assessment\", \"attack\", \"automation\", \"automation\", \"battery\", \"beat\", \"block\", \"box\", \"broker\", \"bug\", \"bulb\", \"bulbs\", \"burn\", \"buy\", \"buy\", \"camera\", \"camera\", \"card\", \"card\", \"certification\", \"certify\", \"certify\", \"charge\", \"click\", \"cloud\", \"cloud\", \"cloud\", \"com\", \"com\", \"communication\", \"company\", \"compromise\", \"connect\", \"connect\", \"consumer\", \"consumer\", \"contact\", \"contact\", \"contact\", \"control\", \"control\", \"controller\", \"copper\", \"copper\", \"copper\", \"copper\", \"credit\", \"customer\", \"datum\", \"description\", \"device\", \"device\", \"device\", \"difference\", \"door\", \"emergency\", \"ensure\", \"false\", \"find\", \"find\", \"finger\", \"firewall\", \"firmware\", \"flight\", \"garage\", \"get\", \"get\", \"give\", \"give\", \"give\", \"go\", \"go\", \"good\", \"good\", \"google\", \"google\", \"grain\", \"hack\", \"happen\", \"heart\", \"homeseer\", \"homeseer\", \"house\", \"house\", \"hub\", \"hue\", \"identical\", \"identical\", \"identical\", \"industry\", \"interest\", \"interested\", \"interested\", \"internet\", \"internet\", \"iot\", \"ip\", \"knock\", \"know\", \"know\", \"lan\", \"lead\", \"lead\", \"least\", \"least\", \"legit\", \"light\", \"little\", \"local\", \"local\", \"local\", \"lock\", \"lol\", \"machine\", \"make\", \"make\", \"member\", \"message\", \"message\", \"message\", \"mode\", \"money\", \"motion\", \"much\", \"much\", \"need\", \"need\", \"need\", \"neighborhood\", \"network\", \"nfc\", \"open\", \"open\", \"pass\", \"password\", \"pay\", \"people\", \"phyn\", \"plate\", \"player\", \"plug\", \"plumber\", \"positive\", \"power\", \"pressure\", \"prevent\", \"product\", \"professional\", \"protocol\", \"protocol\", \"prove\", \"question\", \"ramp\", \"register\", \"reply\", \"request\", \"review\", \"rgb\", \"ring\", \"room\", \"router\", \"router\", \"run\", \"run\", \"salt\", \"say\", \"sd\", \"secure\", \"security\", \"security\", \"security\", \"see\", \"see\", \"seem\", \"sensor\", \"server\", \"server\", \"service\", \"service\", \"smart\", \"smart\", \"smartthing\", \"speak\", \"support\", \"support\", \"switch\", \"system\", \"system\", \"tech\", \"thing\", \"thing\", \"think\", \"think\", \"time\", \"time\", \"traffic\", \"trust\", \"try\", \"turn\", \"turn\", \"use\", \"use\", \"use\", \"user\", \"user\", \"video\", \"vlan\", \"vpn\", \"wall\", \"want\", \"want\", \"water\", \"wattage\", \"way\", \"way\", \"wear\", \"welcome\", \"welcome\", \"white\", \"wifi\", \"wifi\", \"window\", \"wire\", \"work\", \"work\", \"would\", \"zigbee\", \"zwave\"]}, \"R\": 30, \"lambda.step\": 0.01, \"plot.opts\": {\"xlab\": \"PC1\", \"ylab\": \"PC2\"}, \"topic.order\": [4, 3, 1, 2]};\n",
       "\n",
       "function LDAvis_load_lib(url, callback){\n",
       "  var s = document.createElement('script');\n",
       "  s.src = url;\n",
       "  s.async = true;\n",
       "  s.onreadystatechange = s.onload = callback;\n",
       "  s.onerror = function(){console.warn(\"failed to load library \" + url);};\n",
       "  document.getElementsByTagName(\"head\")[0].appendChild(s);\n",
       "}\n",
       "\n",
       "if(typeof(LDAvis) !== \"undefined\"){\n",
       "   // already loaded: just create the visualization\n",
       "   !function(LDAvis){\n",
       "       new LDAvis(\"#\" + \"ldavis_el94349547054889432351934\", ldavis_el94349547054889432351934_data);\n",
       "   }(LDAvis);\n",
       "}else if(typeof define === \"function\" && define.amd){\n",
       "   // require.js is available: use it to load d3/LDAvis\n",
       "   require.config({paths: {d3: \"https://cdnjs.cloudflare.com/ajax/libs/d3/3.5.5/d3.min\"}});\n",
       "   require([\"d3\"], function(d3){\n",
       "      window.d3 = d3;\n",
       "      LDAvis_load_lib(\"https://cdn.rawgit.com/bmabey/pyLDAvis/files/ldavis.v1.0.0.js\", function(){\n",
       "        new LDAvis(\"#\" + \"ldavis_el94349547054889432351934\", ldavis_el94349547054889432351934_data);\n",
       "      });\n",
       "    });\n",
       "}else{\n",
       "    // require.js not available: dynamically load d3 & LDAvis\n",
       "    LDAvis_load_lib(\"https://cdnjs.cloudflare.com/ajax/libs/d3/3.5.5/d3.min.js\", function(){\n",
       "         LDAvis_load_lib(\"https://cdn.rawgit.com/bmabey/pyLDAvis/files/ldavis.v1.0.0.js\", function(){\n",
       "                 new LDAvis(\"#\" + \"ldavis_el94349547054889432351934\", ldavis_el94349547054889432351934_data);\n",
       "            })\n",
       "         });\n",
       "}\n",
       "</script>"
      ],
      "text/plain": [
       "PreparedData(topic_coordinates=              x         y  topics  cluster       Freq\n",
       "topic                                                \n",
       "3      0.212599 -0.184448       1        1  44.378593\n",
       "2      0.173658  0.208937       2        1  40.960373\n",
       "0     -0.208733  0.045418       3        1  12.420948\n",
       "1     -0.177524 -0.069907       4        1   2.240084, topic_info=     Category         Freq         Term        Total  loglift  logprob\n",
       "151   Default  2659.000000        trust  2659.000000  30.0000  30.0000\n",
       "67    Default  1030.000000       device  1030.000000  29.0000  29.0000\n",
       "367   Default   508.000000      network   508.000000  28.0000  28.0000\n",
       "81    Default  1148.000000       system  1148.000000  27.0000  27.0000\n",
       "200   Default   913.000000       switch   913.000000  26.0000  26.0000\n",
       "...       ...          ...          ...          ...      ...      ...\n",
       "4371   Topic4     6.720372  description     7.854901   3.6427  -6.0685\n",
       "101    Topic4    18.929871          com    30.806854   3.3117  -5.0329\n",
       "173    Topic4    18.307211      contact    55.554970   2.6886  -5.0663\n",
       "438    Topic4    11.798254         card    46.765114   2.4215  -5.5057\n",
       "1703   Topic4     7.165879      message    59.631363   1.6798  -6.0043\n",
       "\n",
       "[214 rows x 6 columns], token_table=      Topic      Freq        Term\n",
       "term                             \n",
       "2144      4  0.921293          ac\n",
       "3936      4  0.865304  acceptable\n",
       "291       2  0.119890      access\n",
       "291       3  0.879192      access\n",
       "2002      3  0.976535  accessible\n",
       "...     ...       ...         ...\n",
       "153       1  0.419711        work\n",
       "153       2  0.580534        work\n",
       "1609      4  0.924284       would\n",
       "501       2  0.995152      zigbee\n",
       "241       2  0.998098       zwave\n",
       "\n",
       "[242 rows x 3 columns], R=30, lambda_step=0.01, plot_opts={'xlab': 'PC1', 'ylab': 'PC2'}, topic_order=[4, 3, 1, 2])"
      ]
     },
     "execution_count": 212,
     "metadata": {},
     "output_type": "execute_result"
    }
   ],
   "source": [
    "# Visualize the topics\n",
    "# Takes a lot of time to run\n",
    "# mds='TSNE'\n",
    "pyLDAvis.enable_notebook()\n",
    "vis = pyLDAvis.gensim.prepare(model, corpus, dictionary)\n",
    "vis\n"
   ]
  },
  {
   "cell_type": "code",
   "execution_count": 213,
   "metadata": {},
   "outputs": [],
   "source": [
    "# Extract the topic with highest security, trust and privacy\n",
    "\n",
    "def relevent_topic(num_topics, query):\n",
    "    '''\n",
    "    Input:\n",
    "        > num_topics: integer\n",
    "        > query: term string\n",
    "    '''\n",
    "    print('{} topics:\\n'.format(query.upper()))\n",
    "    relevant = [(num, dist) for num, dist in model.show_topics(num_words=20, num_topics = num_topics) if len(re.findall(query, dist)) != 0]\n",
    "    \n",
    "    for i in relevant:\n",
    "        print('Topic: {}'.format(i[0]))\n",
    "        print('Distribution: {}\\n'.format(i[1]))\n"
   ]
  },
  {
   "cell_type": "code",
   "execution_count": 214,
   "metadata": {},
   "outputs": [
    {
     "name": "stdout",
     "output_type": "stream",
     "text": [
      "SECURITY topics:\n",
      "\n",
      "Topic: 0\n",
      "Distribution: 0.039*\"device\" + 0.032*\"network\" + 0.020*\"access\" + 0.017*\"internet\" + 0.015*\"datum\" + 0.013*\"security\" + 0.012*\"secure\" + 0.011*\"wifi\" + 0.009*\"router\" + 0.009*\"identical\" + 0.008*\"cloud\" + 0.008*\"server\" + 0.008*\"firmware\" + 0.008*\"local\" + 0.007*\"hack\" + 0.006*\"iot\" + 0.006*\"vlan\" + 0.005*\"connect\" + 0.004*\"run\" + 0.004*\"ip\"\n",
      "\n",
      "PRIVACY topics:\n",
      "\n",
      "TRUST topics:\n",
      "\n",
      "Topic: 3\n",
      "Distribution: 0.046*\"trust\" + 0.014*\"company\" + 0.014*\"get\" + 0.012*\"go\" + 0.012*\"use\" + 0.011*\"product\" + 0.011*\"say\" + 0.011*\"know\" + 0.010*\"think\" + 0.009*\"make\" + 0.009*\"people\" + 0.008*\"google\" + 0.008*\"thing\" + 0.008*\"camera\" + 0.007*\"support\" + 0.007*\"try\" + 0.006*\"time\" + 0.006*\"money\" + 0.006*\"pay\" + 0.006*\"customer\"\n",
      "\n"
     ]
    }
   ],
   "source": [
    "relevent_topic(4, 'security')\n",
    "relevent_topic(4, 'privacy')\n",
    "relevent_topic(4, 'trust')"
   ]
  },
  {
   "cell_type": "code",
   "execution_count": 215,
   "metadata": {},
   "outputs": [],
   "source": [
    "# Find the dominant topic in each sentence\n",
    "# Find the topic number with the highest percentage contribution in that document\n",
    "\n",
    "def dominant_topic(ldamodel, corpus, texts):\n",
    "    # init dataframe\n",
    "    topics_df = pd.DataFrame()\n",
    "\n",
    "    # GET MAIN TOPIC IN EACH WEBPAGE\n",
    "    # Get throught the pages\n",
    "    for num, page in enumerate(ldamodel[corpus]):\n",
    "        # Count number of list into a list\n",
    "        if sum(isinstance(i, list) for i in page)>0:\n",
    "            page = page[0]\n",
    "\n",
    "        page = sorted(page, key= lambda x: (x[1]), reverse=True)\n",
    "    \n",
    "        for j, (topic_num, prop_topic) in enumerate(page):\n",
    "            if j == 0: # => dominant topic\n",
    "                # Get list prob. * keywords from the topic\n",
    "                pk = ldamodel.show_topic(topic_num)\n",
    "                topic_keywords = ', '.join([word for word, prop in pk])\n",
    "                # Add topic number, probability, keywords and original text to the dataframe\n",
    "                topics_df = topics_df.append(pd.Series([int(topic_num), np.round(prop_topic, 4),\n",
    "                                                    topic_keywords, texts[num]]),\n",
    "                                                    ignore_index=True)\n",
    "            else:\n",
    "                break\n",
    "                \n",
    "    # Add columns name\n",
    "    topics_df.columns = ['Dominant_Topic', 'Perc_Contribution', 'Topic_Keywords', 'Text']\n",
    "\n",
    "    return topics_df\n"
   ]
  },
  {
   "cell_type": "code",
   "execution_count": 216,
   "metadata": {},
   "outputs": [],
   "source": [
    "target_corpus = [dictionary.doc2bow(text) for text in df['token_text']]"
   ]
  },
  {
   "cell_type": "code",
   "execution_count": 217,
   "metadata": {},
   "outputs": [
    {
     "data": {
      "text/html": [
       "<div>\n",
       "<style scoped>\n",
       "    .dataframe tbody tr th:only-of-type {\n",
       "        vertical-align: middle;\n",
       "    }\n",
       "\n",
       "    .dataframe tbody tr th {\n",
       "        vertical-align: top;\n",
       "    }\n",
       "\n",
       "    .dataframe thead th {\n",
       "        text-align: right;\n",
       "    }\n",
       "</style>\n",
       "<table border=\"1\" class=\"dataframe\">\n",
       "  <thead>\n",
       "    <tr style=\"text-align: right;\">\n",
       "      <th></th>\n",
       "      <th>Dominant_Topic</th>\n",
       "      <th>Perc_Contribution</th>\n",
       "      <th>Topic_Keywords</th>\n",
       "      <th>Text</th>\n",
       "    </tr>\n",
       "  </thead>\n",
       "  <tbody>\n",
       "    <tr>\n",
       "      <th>0</th>\n",
       "      <td>3.0</td>\n",
       "      <td>0.4702</td>\n",
       "      <td>trust, company, get, go, use, product, say, kn...</td>\n",
       "      <td>Not sure if you're going for humor, or just be...</td>\n",
       "    </tr>\n",
       "    <tr>\n",
       "      <th>1</th>\n",
       "      <td>3.0</td>\n",
       "      <td>0.5215</td>\n",
       "      <td>trust, company, get, go, use, product, say, kn...</td>\n",
       "      <td>Are you commenting from your smart phone? Beca...</td>\n",
       "    </tr>\n",
       "    <tr>\n",
       "      <th>2</th>\n",
       "      <td>3.0</td>\n",
       "      <td>0.4772</td>\n",
       "      <td>trust, company, get, go, use, product, say, kn...</td>\n",
       "      <td>People will eventually start talking about EM ...</td>\n",
       "    </tr>\n",
       "    <tr>\n",
       "      <th>3</th>\n",
       "      <td>3.0</td>\n",
       "      <td>0.4603</td>\n",
       "      <td>trust, company, get, go, use, product, say, kn...</td>\n",
       "      <td>My suggestion is just don’t use voice assistan...</td>\n",
       "    </tr>\n",
       "    <tr>\n",
       "      <th>4</th>\n",
       "      <td>3.0</td>\n",
       "      <td>0.4935</td>\n",
       "      <td>trust, company, get, go, use, product, say, kn...</td>\n",
       "      <td>There's an open source version, if you're a te...</td>\n",
       "    </tr>\n",
       "    <tr>\n",
       "      <th>...</th>\n",
       "      <td>...</td>\n",
       "      <td>...</td>\n",
       "      <td>...</td>\n",
       "      <td>...</td>\n",
       "    </tr>\n",
       "    <tr>\n",
       "      <th>2899</th>\n",
       "      <td>2.0</td>\n",
       "      <td>0.7348</td>\n",
       "      <td>system, use, switch, smart, lock, door, automa...</td>\n",
       "      <td>If you want the best combination of reliabilit...</td>\n",
       "    </tr>\n",
       "    <tr>\n",
       "      <th>2900</th>\n",
       "      <td>2.0</td>\n",
       "      <td>0.5835</td>\n",
       "      <td>system, use, switch, smart, lock, door, automa...</td>\n",
       "      <td>Agreed. Personally I find the prices on some o...</td>\n",
       "    </tr>\n",
       "    <tr>\n",
       "      <th>2901</th>\n",
       "      <td>3.0</td>\n",
       "      <td>0.7325</td>\n",
       "      <td>trust, company, get, go, use, product, say, kn...</td>\n",
       "      <td>What I trust is their ethos. Maybe I'm delusio...</td>\n",
       "    </tr>\n",
       "    <tr>\n",
       "      <th>2902</th>\n",
       "      <td>3.0</td>\n",
       "      <td>0.8051</td>\n",
       "      <td>trust, company, get, go, use, product, say, kn...</td>\n",
       "      <td>&amp;gt; It's not a bug in the switches. If it wer...</td>\n",
       "    </tr>\n",
       "    <tr>\n",
       "      <th>2903</th>\n",
       "      <td>2.0</td>\n",
       "      <td>0.6679</td>\n",
       "      <td>system, use, switch, smart, lock, door, automa...</td>\n",
       "      <td>&amp;gt; What home automation system do you use?\\n...</td>\n",
       "    </tr>\n",
       "  </tbody>\n",
       "</table>\n",
       "<p>2904 rows × 4 columns</p>\n",
       "</div>"
      ],
      "text/plain": [
       "      Dominant_Topic  Perc_Contribution  \\\n",
       "0                3.0             0.4702   \n",
       "1                3.0             0.5215   \n",
       "2                3.0             0.4772   \n",
       "3                3.0             0.4603   \n",
       "4                3.0             0.4935   \n",
       "...              ...                ...   \n",
       "2899             2.0             0.7348   \n",
       "2900             2.0             0.5835   \n",
       "2901             3.0             0.7325   \n",
       "2902             3.0             0.8051   \n",
       "2903             2.0             0.6679   \n",
       "\n",
       "                                         Topic_Keywords  \\\n",
       "0     trust, company, get, go, use, product, say, kn...   \n",
       "1     trust, company, get, go, use, product, say, kn...   \n",
       "2     trust, company, get, go, use, product, say, kn...   \n",
       "3     trust, company, get, go, use, product, say, kn...   \n",
       "4     trust, company, get, go, use, product, say, kn...   \n",
       "...                                                 ...   \n",
       "2899  system, use, switch, smart, lock, door, automa...   \n",
       "2900  system, use, switch, smart, lock, door, automa...   \n",
       "2901  trust, company, get, go, use, product, say, kn...   \n",
       "2902  trust, company, get, go, use, product, say, kn...   \n",
       "2903  system, use, switch, smart, lock, door, automa...   \n",
       "\n",
       "                                                   Text  \n",
       "0     Not sure if you're going for humor, or just be...  \n",
       "1     Are you commenting from your smart phone? Beca...  \n",
       "2     People will eventually start talking about EM ...  \n",
       "3     My suggestion is just don’t use voice assistan...  \n",
       "4     There's an open source version, if you're a te...  \n",
       "...                                                 ...  \n",
       "2899  If you want the best combination of reliabilit...  \n",
       "2900  Agreed. Personally I find the prices on some o...  \n",
       "2901  What I trust is their ethos. Maybe I'm delusio...  \n",
       "2902  &gt; It's not a bug in the switches. If it wer...  \n",
       "2903  &gt; What home automation system do you use?\\n...  \n",
       "\n",
       "[2904 rows x 4 columns]"
      ]
     },
     "execution_count": 217,
     "metadata": {},
     "output_type": "execute_result"
    }
   ],
   "source": [
    "dominant_df = dominant_topic(model, target_corpus, df['body'])\n",
    "dominant_df"
   ]
  },
  {
   "cell_type": "code",
   "execution_count": 220,
   "metadata": {},
   "outputs": [
    {
     "data": {
      "text/html": [
       "<div>\n",
       "<style scoped>\n",
       "    .dataframe tbody tr th:only-of-type {\n",
       "        vertical-align: middle;\n",
       "    }\n",
       "\n",
       "    .dataframe tbody tr th {\n",
       "        vertical-align: top;\n",
       "    }\n",
       "\n",
       "    .dataframe thead th {\n",
       "        text-align: right;\n",
       "    }\n",
       "</style>\n",
       "<table border=\"1\" class=\"dataframe\">\n",
       "  <thead>\n",
       "    <tr style=\"text-align: right;\">\n",
       "      <th></th>\n",
       "      <th>author</th>\n",
       "      <th>body</th>\n",
       "      <th>created_utc</th>\n",
       "      <th>id</th>\n",
       "      <th>link_id</th>\n",
       "      <th>parent_id</th>\n",
       "      <th>permalink</th>\n",
       "      <th>score</th>\n",
       "      <th>subreddit</th>\n",
       "      <th>URL</th>\n",
       "      <th>clean_body</th>\n",
       "      <th>token_text</th>\n",
       "    </tr>\n",
       "  </thead>\n",
       "  <tbody>\n",
       "    <tr>\n",
       "      <th>0</th>\n",
       "      <td>othergallow</td>\n",
       "      <td>Not sure if you're going for humor, or just be...</td>\n",
       "      <td>1574910012</td>\n",
       "      <td>f8x71w0</td>\n",
       "      <td>t3_e2q4mj</td>\n",
       "      <td>t1_f8x6fog</td>\n",
       "      <td>/r/homeautomation/comments/e2q4mj/is_there_a_p...</td>\n",
       "      <td>1</td>\n",
       "      <td>homeautomation</td>\n",
       "      <td>[]</td>\n",
       "      <td>sure go humor snarky funny talk way give priva...</td>\n",
       "      <td>[sure, go, humor, snarky, funny, talk, way, gi...</td>\n",
       "    </tr>\n",
       "  </tbody>\n",
       "</table>\n",
       "</div>"
      ],
      "text/plain": [
       "        author                                               body  \\\n",
       "0  othergallow  Not sure if you're going for humor, or just be...   \n",
       "\n",
       "   created_utc       id    link_id   parent_id  \\\n",
       "0   1574910012  f8x71w0  t3_e2q4mj  t1_f8x6fog   \n",
       "\n",
       "                                           permalink  score       subreddit  \\\n",
       "0  /r/homeautomation/comments/e2q4mj/is_there_a_p...      1  homeautomation   \n",
       "\n",
       "  URL                                         clean_body  \\\n",
       "0  []  sure go humor snarky funny talk way give priva...   \n",
       "\n",
       "                                          token_text  \n",
       "0  [sure, go, humor, snarky, funny, talk, way, gi...  "
      ]
     },
     "execution_count": 220,
     "metadata": {},
     "output_type": "execute_result"
    }
   ],
   "source": [
    "df[:1]"
   ]
  },
  {
   "cell_type": "code",
   "execution_count": 221,
   "metadata": {},
   "outputs": [
    {
     "data": {
      "text/html": [
       "<div>\n",
       "<style scoped>\n",
       "    .dataframe tbody tr th:only-of-type {\n",
       "        vertical-align: middle;\n",
       "    }\n",
       "\n",
       "    .dataframe tbody tr th {\n",
       "        vertical-align: top;\n",
       "    }\n",
       "\n",
       "    .dataframe thead th {\n",
       "        text-align: right;\n",
       "    }\n",
       "</style>\n",
       "<table border=\"1\" class=\"dataframe\">\n",
       "  <thead>\n",
       "    <tr style=\"text-align: right;\">\n",
       "      <th></th>\n",
       "      <th>Topic_Num</th>\n",
       "      <th>Topic_Perc_Contrib</th>\n",
       "      <th>Keywords</th>\n",
       "      <th>Text</th>\n",
       "    </tr>\n",
       "  </thead>\n",
       "  <tbody>\n",
       "    <tr>\n",
       "      <th>1288</th>\n",
       "      <td>0.0</td>\n",
       "      <td>0.7486</td>\n",
       "      <td>device, network, access, internet, datum, secu...</td>\n",
       "      <td>That works great for ethernet but a malicious ...</td>\n",
       "    </tr>\n",
       "    <tr>\n",
       "      <th>776</th>\n",
       "      <td>1.0</td>\n",
       "      <td>0.6535</td>\n",
       "      <td>burn, mode, phyn, com, contact, click, plate, ...</td>\n",
       "      <td>Did a WHOIS lookup and it didn't really reveal...</td>\n",
       "    </tr>\n",
       "    <tr>\n",
       "      <th>1744</th>\n",
       "      <td>2.0</td>\n",
       "      <td>0.9538</td>\n",
       "      <td>system, use, switch, smart, lock, door, automa...</td>\n",
       "      <td>Go with Philips Hue gateway and buy Gledopto l...</td>\n",
       "    </tr>\n",
       "    <tr>\n",
       "      <th>568</th>\n",
       "      <td>3.0</td>\n",
       "      <td>0.9240</td>\n",
       "      <td>trust, company, get, go, use, product, say, kn...</td>\n",
       "      <td>Thanks for the respect but downvotes really do...</td>\n",
       "    </tr>\n",
       "  </tbody>\n",
       "</table>\n",
       "</div>"
      ],
      "text/plain": [
       "      Topic_Num  Topic_Perc_Contrib  \\\n",
       "1288        0.0              0.7486   \n",
       "776         1.0              0.6535   \n",
       "1744        2.0              0.9538   \n",
       "568         3.0              0.9240   \n",
       "\n",
       "                                               Keywords  \\\n",
       "1288  device, network, access, internet, datum, secu...   \n",
       "776   burn, mode, phyn, com, contact, click, plate, ...   \n",
       "1744  system, use, switch, smart, lock, door, automa...   \n",
       "568   trust, company, get, go, use, product, say, kn...   \n",
       "\n",
       "                                                   Text  \n",
       "1288  That works great for ethernet but a malicious ...  \n",
       "776   Did a WHOIS lookup and it didn't really reveal...  \n",
       "1744  Go with Philips Hue gateway and buy Gledopto l...  \n",
       "568   Thanks for the respect but downvotes really do...  "
      ]
     },
     "execution_count": 221,
     "metadata": {},
     "output_type": "execute_result"
    }
   ],
   "source": [
    "# Find the most representative document for each topic in order to infer the topic\n",
    "ref_document = pd.DataFrame()\n",
    "df_topic_grouped = dominant_df.groupby('Dominant_Topic')\n",
    "\n",
    "for i, grp in df_topic_grouped:\n",
    "    # populate the sorted dataframe with the page that contributed the most to the topic\n",
    "    ref_document = pd.concat([ref_document, grp.sort_values(['Perc_Contribution'], ascending = [0]).head(1)], axis = 0)\n",
    "    \n",
    "# Reset Index and change columns name\n",
    "ref_document.columns = ['Topic_Num', \"Topic_Perc_Contrib\", \"Keywords\", \"Text\"]\n",
    "\n",
    "ref_document.head(20)"
   ]
  },
  {
   "cell_type": "code",
   "execution_count": 229,
   "metadata": {},
   "outputs": [
    {
     "name": "stdout",
     "output_type": "stream",
     "text": [
      "Thanks for the respect but downvotes really don't matter to me. That would be to imply the opinion of redditors is valuable and I've never been convinced that's even remotely true.\n",
      "\n",
      "\n",
      "Your opinion stands in stark contrast to that - you make good points about the assumption of privacy.  These are things that should be thoroughly discussed and disclosed.\n",
      "\n",
      "As to the credibility of that site, I have done a fair bit of research on them and I'm prepared to agree that they are an actual news site.  \n"
     ]
    }
   ],
   "source": [
    "print(df['body'][568])\n"
   ]
  },
  {
   "cell_type": "code",
   "execution_count": 233,
   "metadata": {},
   "outputs": [],
   "source": [
    "# Calculate Jensen-Shannon distance between two probability distributions using scipy.stats.entropy.\n",
    "# Create Document - Topic Matrix\n",
    "\n",
    "# column names\n",
    "topicnames = [\"Topic\" + str(i) for i in range(len(model.print_topics()))]\n",
    "\n",
    "# index names\n",
    "docnames = [\"Doc\" + str(i) for i in range(df.shape[0])]\n",
    "\n",
    "# Make the pandas dataframe\n",
    "doc_topic = pd.DataFrame(columns=topicnames, index=docnames)\n",
    "\n",
    "# Populate the matrix with topic probability distribution for a document\n",
    "for doc_num, dist in enumerate(model[target_corpus]):\n",
    "    for i in dist[0]:\n",
    "        doc_topic.iloc[doc_num,i[0]] = i[1]\n",
    "\n",
    "doc_topic = doc_topic.fillna(0)\n",
    "\n",
    "# Styling\n",
    "def color_green(val):\n",
    "    color = 'green' if val > .1 else 'black'\n",
    "    return 'color: {col}'.format(col=color)\n",
    "\n",
    "def make_bold(val):\n",
    "    weight = 700 if val > .1 else 400\n",
    "    return 'font-weight: {weight}'.format(weight=weight)\n",
    "\n",
    "# Apply Style\n",
    "doc_topic_vis = doc_topic.style.applymap(color_green).applymap(make_bold)\n",
    "\n",
    "\n"
   ]
  },
  {
   "cell_type": "code",
   "execution_count": null,
   "metadata": {},
   "outputs": [],
   "source": [
    "doc_topic_vis.head(10)"
   ]
  },
  {
   "cell_type": "code",
   "execution_count": 32,
   "metadata": {},
   "outputs": [],
   "source": [
    "def jensen_shannon_distance(p, q):\n",
    "    \"\"\"\n",
    "    method to compute the Jenson-Shannon Distance \n",
    "    between two probability distributions\n",
    "    \"\"\"\n",
    "\n",
    "    # convert the vectors into numpy arrays in case that they aren't\n",
    "    p = np.array(p)\n",
    "    q = np.array(q)\n",
    "\n",
    "    # calculate m\n",
    "    m = (p + q) / 2\n",
    "\n",
    "    # compute Jensen Shannon Divergence\n",
    "    divergence = (scipy.stats.entropy(p, m) + scipy.stats.entropy(q, m)) / 2\n",
    "\n",
    "    # compute the Jensen Shannon Distance\n",
    "    distance = np.sqrt(divergence)\n",
    "\n",
    "    return distance"
   ]
  },
  {
   "cell_type": "code",
   "execution_count": 33,
   "metadata": {},
   "outputs": [],
   "source": [
    "# Make the pandas dataframe\n",
    "js_matrix = pd.DataFrame(columns=np.array(range(df.shape[0])), index=np.array(range(df.shape[0])))\n",
    "\n",
    "for i in range(js_matrix.shape[0]):\n",
    "    for j in range(js_matrix.shape[0]):\n",
    "        js_matrix.iloc[i,j] = jensen_shannon_distance(doc_topic.iloc[i,:], doc_topic.iloc[j,:])"
   ]
  },
  {
   "cell_type": "code",
   "execution_count": 34,
   "metadata": {},
   "outputs": [
    {
     "name": "stdout",
     "output_type": "stream",
     "text": [
      "\n",
      "Topic 0\n",
      "Keywords: display, camera, cheap, home, use, security, think, go, alert, get\n",
      "Reference comment: 17\n",
      "Link: https:www.reddit.com/r/homeautomation/comments/dz2lx4/tablet_survey_results/f84wsnl/\n",
      "Related comments: \n",
      "https:www.reddit.com/r/smarthome/comments/dz3d1m/amazon_confirms_police_can_keep_ring_doorbell/f85otox/\n",
      "https:www.reddit.com/r/homeautomation/comments/dzgieb/what_is_the_correct_way_to_wire_a_house_for_home/f887mg7/\n",
      "https:www.reddit.com/r/homeautomation/comments/dzgieb/what_is_the_correct_way_to_wire_a_house_for_home/f87h5xv/\n",
      "https:www.reddit.com/r/homeautomation/comments/dz2lx4/tablet_survey_results/f850xaf/\n",
      "https:www.reddit.com/r/homeautomation/comments/dy6w8l/best_video_phone/f7z2dgn/\n",
      "https:www.reddit.com/r/smarthome/comments/dvfb7d/what_is_the_difference_between_smart_bulbs_like/f7xr5tu/\n",
      "https:www.reddit.com/r/homeautomation/comments/dy058y/somfy_blinds_first_home_automation_project/f7xqaii/\n",
      "https:www.reddit.com/r/homeautomation/comments/dxuk5q/light_controller_without_smart_bulbs/f7wj8f0/\n",
      "\n",
      "Topic 1\n",
      "Keywords: security, system, referent, example, include, home, access, people, refer, computer\n",
      "Reference comment: 9\n",
      "Link: https:www.reddit.com/r/homeautomation/comments/dwl8ls/automation_business_integrator_services/f7ktp2q/\n",
      "Related comments: \n",
      "https:www.reddit.com/r/homeautomation/comments/dx0t6w/setting_up_new_smarthome_best_way_for/f7nvq9n/\n",
      "https:www.reddit.com/r/smarthome/comments/dz8gvl/smart_door_releasecloser/f86rfaw/\n",
      "https:www.reddit.com/r/homeautomation/comments/dz4d7a/help_chosing_assistant/f8568qc/\n",
      "https:www.reddit.com/r/homeautomation/comments/dz1fq2/planning_for_smart_home_and_automatation/f84mrgt/\n",
      "https:www.reddit.com/r/homeautomation/comments/dyfsbs/installed_a_nest_3rd_gen_ecobee_smart_w_voice/f84h80n/\n",
      "\n",
      "Topic 2\n",
      "Keywords: privacy, information, individual, right, personal, use, control, private, self, public\n",
      "Reference comment: 3\n",
      "Link: https:www.reddit.com/r/homeautomation/comments/dy4kjb/psa_to_people_looking_to_get_started_with/f81s5bt/\n",
      "Related comments: \n",
      "https:www.reddit.com/r/homeautomation/comments/dy058y/somfy_blinds_first_home_automation_project/f7xqhju/\n",
      "https:www.reddit.com/r/smarthome/comments/dzg5vf/alexa_routines_for_scaring_off_intruders_when/f87szd8/\n",
      "https:www.reddit.com/r/smarthome/comments/dykpor/i_dont_know_why_im_automating/f83g2jo/\n",
      "\n",
      "Topic 3\n",
      "Keywords: trust, group, social, relationship, use, game, economic, lead, make, technology\n",
      "Reference comment: 27\n",
      "Link: https:www.reddit.com/r/homeautomation/comments/dx2fb1/i_need_a_z_wave_smart_thermostat_recommendation/f7wwzui/\n",
      "Related comments: \n",
      "https:www.reddit.com/r/homeautomation/comments/dz3tix/specific_question_about_home_automation_hubs/f85bg5r/\n",
      "https:www.reddit.com/r/homeautomation/comments/dynr1h/wherehow_to_start_small_with_room_to_grow_in_the/f83gny2/\n",
      "https:www.reddit.com/r/homeautomation/comments/dyjjoo/upgrading_my_home_automation/f81m6ex/\n",
      "https:www.reddit.com/r/homeautomation/comments/dy6w8l/best_video_phone/f7zbvox/\n",
      "https:www.reddit.com/r/homeautomation/comments/dy6w8l/best_video_phone/f7zbkgj/\n",
      "https:www.reddit.com/r/homeautomation/comments/dzgieb/what_is_the_correct_way_to_wire_a_house_for_home/f8847cx/\n",
      "https:www.reddit.com/r/homeautomation/comments/dzcd5k/automation_for_heaters/f86pcc9/\n",
      "https:www.reddit.com/r/homeautomation/comments/dy6w8l/best_video_phone/f7zg1sn/\n",
      "https:www.reddit.com/r/homeautomation/comments/dxmpfd/why_are_poe_devices_so_few_and_far_between_with/f7x9pog/\n"
     ]
    }
   ],
   "source": [
    "# TODO\n",
    "# Get reference document by topic and the related ones top 3 for topics of interest\n",
    "for i in range(len(model.show_topics())):\n",
    "    print('\\nTopic', int(ref_document.iloc[i,0]))\n",
    "    print('Keywords:', ref_document.iloc[i,2])\n",
    "    print('Reference comment:', ref_document.index[i])\n",
    "    print('Link: https:www.reddit.com{}'.format(df['permalink'][ref_document.index[i]]))\n",
    "    related_comments = np.where((js_matrix.iloc[ref_document.index[i]] < 0.5) &\n",
    "                                (js_matrix.index != ref_document.index[i]))[0]\n",
    "    print('Related comments: ')\n",
    "    for j in related_comments:\n",
    "        print('https:www.reddit.com{}'.format(df['permalink'][j]))\n",
    "        \n"
   ]
  },
  {
   "cell_type": "code",
   "execution_count": 231,
   "metadata": {},
   "outputs": [],
   "source": [
    "# How much are topics related to each other?\n",
    "\n",
    "# Make the pandas dataframe\n",
    "topics_dictionary = pd.DataFrame(columns=np.array(range(len(dictionary))), index=np.array(range(len(model.get_topics()))))\n",
    "\n",
    "# Populate the matrix with word probability distribution for a topic\n",
    "for i in range(len(model.get_topics())):\n",
    "    word_prob = model.get_topic_terms(i, topn=len(dictionary))\n",
    "    for j in word_prob:\n",
    "        topics_dictionary.iloc[i, j[0]] = j[1]\n",
    "\n",
    "topics_dictionary = topics_dictionary.fillna(0)\n",
    "    \n",
    "# Make the pandas dataframe\n",
    "js_topics = pd.DataFrame(columns=np.array(range(len(model.get_topics()))), index=np.array(range(len(model.get_topics()))))\n",
    "\n",
    "for i in range(js_topics.shape[0]):\n",
    "    for j in range(js_topics.shape[0]):\n",
    "        js_topics.iloc[i,j] = jensen_shannon_distance(topics_dictionary.iloc[i,:], topics_dictionary.iloc[j,:])"
   ]
  },
  {
   "cell_type": "code",
   "execution_count": 232,
   "metadata": {},
   "outputs": [
    {
     "data": {
      "text/html": [
       "<div>\n",
       "<style scoped>\n",
       "    .dataframe tbody tr th:only-of-type {\n",
       "        vertical-align: middle;\n",
       "    }\n",
       "\n",
       "    .dataframe tbody tr th {\n",
       "        vertical-align: top;\n",
       "    }\n",
       "\n",
       "    .dataframe thead th {\n",
       "        text-align: right;\n",
       "    }\n",
       "</style>\n",
       "<table border=\"1\" class=\"dataframe\">\n",
       "  <thead>\n",
       "    <tr style=\"text-align: right;\">\n",
       "      <th></th>\n",
       "      <th>0</th>\n",
       "      <th>1</th>\n",
       "      <th>2</th>\n",
       "      <th>3</th>\n",
       "    </tr>\n",
       "  </thead>\n",
       "  <tbody>\n",
       "    <tr>\n",
       "      <th>0</th>\n",
       "      <td>0</td>\n",
       "      <td>0.607595</td>\n",
       "      <td>0.685079</td>\n",
       "      <td>0.702361</td>\n",
       "    </tr>\n",
       "    <tr>\n",
       "      <th>1</th>\n",
       "      <td>0.607595</td>\n",
       "      <td>0</td>\n",
       "      <td>0.683657</td>\n",
       "      <td>0.685396</td>\n",
       "    </tr>\n",
       "    <tr>\n",
       "      <th>2</th>\n",
       "      <td>0.685079</td>\n",
       "      <td>0.683657</td>\n",
       "      <td>0</td>\n",
       "      <td>0.639245</td>\n",
       "    </tr>\n",
       "    <tr>\n",
       "      <th>3</th>\n",
       "      <td>0.702361</td>\n",
       "      <td>0.685396</td>\n",
       "      <td>0.639245</td>\n",
       "      <td>0</td>\n",
       "    </tr>\n",
       "  </tbody>\n",
       "</table>\n",
       "</div>"
      ],
      "text/plain": [
       "          0         1         2         3\n",
       "0         0  0.607595  0.685079  0.702361\n",
       "1  0.607595         0  0.683657  0.685396\n",
       "2  0.685079  0.683657         0  0.639245\n",
       "3  0.702361  0.685396  0.639245         0"
      ]
     },
     "execution_count": 232,
     "metadata": {},
     "output_type": "execute_result"
    }
   ],
   "source": [
    "js_topics"
   ]
  },
  {
   "cell_type": "code",
   "execution_count": 36,
   "metadata": {},
   "outputs": [],
   "source": [
    "# Check most relevant topic to the given word\n",
    "# dictionary.token2id['privacy']\n",
    "# model.get_term_topics(618)"
   ]
  },
  {
   "cell_type": "code",
   "execution_count": null,
   "metadata": {},
   "outputs": [],
   "source": []
  },
  {
   "cell_type": "code",
   "execution_count": null,
   "metadata": {},
   "outputs": [],
   "source": []
  },
  {
   "cell_type": "code",
   "execution_count": null,
   "metadata": {},
   "outputs": [],
   "source": []
  }
 ],
 "metadata": {
  "kernelspec": {
   "display_name": ".venv",
   "language": "python",
   "name": ".venv"
  },
  "language_info": {
   "codemirror_mode": {
    "name": "ipython",
    "version": 3
   },
   "file_extension": ".py",
   "mimetype": "text/x-python",
   "name": "python",
   "nbconvert_exporter": "python",
   "pygments_lexer": "ipython3",
   "version": "3.7.4"
  }
 },
 "nbformat": 4,
 "nbformat_minor": 4
}
